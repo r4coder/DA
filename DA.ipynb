{
  "nbformat": 4,
  "nbformat_minor": 0,
  "metadata": {
    "colab": {
      "provenance": [],
      "authorship_tag": "ABX9TyOgaGNtc1EDS5HMiQZdQnWG",
      "include_colab_link": true
    },
    "kernelspec": {
      "name": "python3",
      "display_name": "Python 3"
    },
    "language_info": {
      "name": "python"
    }
  },
  "cells": [
    {
      "cell_type": "markdown",
      "metadata": {
        "id": "view-in-github",
        "colab_type": "text"
      },
      "source": [
        "<a href=\"https://colab.research.google.com/github/r4coder/DA/blob/main/DA.ipynb\" target=\"_parent\"><img src=\"https://colab.research.google.com/assets/colab-badge.svg\" alt=\"Open In Colab\"/></a>"
      ]
    },
    {
      "cell_type": "markdown",
      "source": [
        "#**Merging database-style dataframes**"
      ],
      "metadata": {
        "id": "TNWSW59isn6N"
      }
    },
    {
      "cell_type": "code",
      "source": [
        "#Loading the dataset\n",
        "import pandas as pd\n",
        "import numpy as np\n",
        "data_frame=pd.read_csv(\"https://raw.githubusercontent.com/salemprakash/EDA/main/Data/indo_rct.csv\")\n",
        "print(data_frame)"
      ],
      "metadata": {
        "colab": {
          "base_uri": "https://localhost:8080/"
        },
        "id": "B7Bczv4gtf1A",
        "outputId": "a231dcc0-e1d2-4f0e-81f0-dcf4cacda709"
      },
      "execution_count": 5,
      "outputs": [
        {
          "output_type": "stream",
          "name": "stdout",
          "text": [
            "     rownames    id    site  age  risk    gender outcome    sod    pep  \\\n",
            "0           1  1001    1_UM   26   2.0  1_female   1_yes  1_yes   0_no   \n",
            "1           2  1002    1_UM   24   1.0    2_male    0_no   0_no  1_yes   \n",
            "2           3  1003    1_UM   57   1.0  1_female    0_no  1_yes   0_no   \n",
            "3           4  1004    1_UM   29   2.0  1_female   1_yes  1_yes   0_no   \n",
            "4           5  1005    1_UM   38   3.5  1_female    0_no  1_yes  1_yes   \n",
            "..        ...   ...     ...  ...   ...       ...     ...    ...    ...   \n",
            "597       598  3021    3_UK   39   2.0  1_female    0_no   0_no   0_no   \n",
            "598       599  3022    3_UK   50   2.5  1_female    0_no  1_yes   0_no   \n",
            "599       600  4001  4_Case   29   1.5  1_female    0_no   0_no   0_no   \n",
            "600       601  4002  4_Case   40   1.5  1_female    0_no  1_yes   0_no   \n",
            "601       602  4003  4_Case   73   2.0  1_female    0_no   0_no   0_no   \n",
            "\n",
            "    recpanc  ... sodsom bsphinc bstent  chole pbmal  train        status  \\\n",
            "0     1_yes  ...   0_no    0_no   0_no   0_no  0_no  1_yes  1_outpatient   \n",
            "1      0_no  ...   0_no   1_yes  1_yes  1_yes  0_no   0_no  1_outpatient   \n",
            "2      0_no  ...   0_no    0_no   0_no   0_no  0_no   0_no  1_outpatient   \n",
            "3      0_no  ...   0_no   1_yes   0_no  1_yes  0_no  1_yes  1_outpatient   \n",
            "4      0_no  ...  1_yes   1_yes   0_no   0_no  0_no  1_yes   0_inpatient   \n",
            "..      ...  ...    ...     ...    ...    ...   ...    ...           ...   \n",
            "597   1_yes  ...   0_no    0_no   0_no   0_no  0_no   0_no  1_outpatient   \n",
            "598   1_yes  ...  1_yes   1_yes   0_no   0_no  0_no   0_no  1_outpatient   \n",
            "599    0_no  ...   0_no   1_yes   0_no  1_yes  0_no  1_yes  1_outpatient   \n",
            "600    0_no  ...   0_no   1_yes   0_no   0_no  0_no  1_yes  1_outpatient   \n",
            "601    0_no  ...   0_no   1_yes  1_yes   0_no  0_no  1_yes  1_outpatient   \n",
            "\n",
            "         type              rx bleed  \n",
            "0    1_type 1  1_indomethacin   NaN  \n",
            "1    0_no SOD       0_placebo   NaN  \n",
            "2    2_type 2       0_placebo   NaN  \n",
            "3    1_type 1       0_placebo   NaN  \n",
            "4    1_type 1  1_indomethacin   NaN  \n",
            "..        ...             ...   ...  \n",
            "597  0_no SOD       0_placebo   NaN  \n",
            "598  2_type 2       0_placebo   NaN  \n",
            "599  1_type 1       0_placebo   NaN  \n",
            "600  1_type 1  1_indomethacin   NaN  \n",
            "601  0_no SOD  1_indomethacin   NaN  \n",
            "\n",
            "[602 rows x 34 columns]\n"
          ]
        }
      ]
    },
    {
      "cell_type": "code",
      "source": [
        "#Making data set-1 from data set\n",
        "data_1=data_frame[['id','age']]\n",
        "print(data_1)"
      ],
      "metadata": {
        "id": "Dxs2kFwxtco6",
        "colab": {
          "base_uri": "https://localhost:8080/"
        },
        "outputId": "fe465a13-1e2c-4d51-9885-8a464d563777"
      },
      "execution_count": 6,
      "outputs": [
        {
          "output_type": "stream",
          "name": "stdout",
          "text": [
            "       id  age\n",
            "0    1001   26\n",
            "1    1002   24\n",
            "2    1003   57\n",
            "3    1004   29\n",
            "4    1005   38\n",
            "..    ...  ...\n",
            "597  3021   39\n",
            "598  3022   50\n",
            "599  4001   29\n",
            "600  4002   40\n",
            "601  4003   73\n",
            "\n",
            "[602 rows x 2 columns]\n"
          ]
        }
      ]
    },
    {
      "cell_type": "code",
      "source": [
        "#Making data set-2 from data set\n",
        "data_2=data_frame[['id','status']]\n",
        "print(data_2)"
      ],
      "metadata": {
        "colab": {
          "base_uri": "https://localhost:8080/"
        },
        "id": "i4qFO9h4GKS6",
        "outputId": "d915ac47-20d2-4026-aac4-d88095781054"
      },
      "execution_count": 10,
      "outputs": [
        {
          "output_type": "stream",
          "name": "stdout",
          "text": [
            "       id        status\n",
            "0    1001  1_outpatient\n",
            "1    1002  1_outpatient\n",
            "2    1003  1_outpatient\n",
            "3    1004  1_outpatient\n",
            "4    1005   0_inpatient\n",
            "..    ...           ...\n",
            "597  3021  1_outpatient\n",
            "598  3022  1_outpatient\n",
            "599  4001  1_outpatient\n",
            "600  4002  1_outpatient\n",
            "601  4003  1_outpatient\n",
            "\n",
            "[602 rows x 2 columns]\n"
          ]
        }
      ]
    },
    {
      "cell_type": "code",
      "source": [
        "#Making data set-3 drom data set\n",
        "data_3=data_frame[['id','status']]\n",
        "prev= data_3['id'].tail(1).values[0]\n",
        "for j in range(len(data_2)):\n",
        "    prev=prev+1\n",
        "    data_3.at[j, 'id']=prev\n",
        "\n",
        "print(data_3)"
      ],
      "metadata": {
        "colab": {
          "base_uri": "https://localhost:8080/"
        },
        "id": "RWZyGTVZsswk",
        "outputId": "1270f387-f757-466a-d40b-0da8614f1fba"
      },
      "execution_count": 15,
      "outputs": [
        {
          "output_type": "stream",
          "name": "stdout",
          "text": [
            "       id        status\n",
            "0    4004  1_outpatient\n",
            "1    4005  1_outpatient\n",
            "2    4006  1_outpatient\n",
            "3    4007  1_outpatient\n",
            "4    4008   0_inpatient\n",
            "..    ...           ...\n",
            "597  4601  1_outpatient\n",
            "598  4602  1_outpatient\n",
            "599  4603  1_outpatient\n",
            "600  4604  1_outpatient\n",
            "601  4605  1_outpatient\n",
            "\n",
            "[602 rows x 2 columns]\n"
          ]
        }
      ]
    },
    {
      "cell_type": "markdown",
      "source": [
        "#**Merging**"
      ],
      "metadata": {
        "id": "2D_rzoehpmAb"
      }
    },
    {
      "cell_type": "code",
      "source": [
        "#Concentation\n",
        "data_concat=pd.concat([data_1, data_2], ignore_index=True)\n",
        "print(data_concat)"
      ],
      "metadata": {
        "colab": {
          "base_uri": "https://localhost:8080/"
        },
        "id": "IgUPkMR_XY23",
        "outputId": "b473a04b-8520-4525-d111-3d9fe71ca3be"
      },
      "execution_count": 11,
      "outputs": [
        {
          "output_type": "stream",
          "name": "stdout",
          "text": [
            "        id   age        status\n",
            "0     1001  26.0           NaN\n",
            "1     1002  24.0           NaN\n",
            "2     1003  57.0           NaN\n",
            "3     1004  29.0           NaN\n",
            "4     1005  38.0           NaN\n",
            "...    ...   ...           ...\n",
            "1199  3021   NaN  1_outpatient\n",
            "1200  3022   NaN  1_outpatient\n",
            "1201  4001   NaN  1_outpatient\n",
            "1202  4002   NaN  1_outpatient\n",
            "1203  4003   NaN  1_outpatient\n",
            "\n",
            "[1204 rows x 3 columns]\n"
          ]
        }
      ]
    },
    {
      "cell_type": "code",
      "source": [
        "#Inner Join\n",
        "data_innerjoin = data_1.merge(data_2, how='inner')\n",
        "print(data_innerjoin)"
      ],
      "metadata": {
        "id": "6OZGZ7SDZJTa",
        "colab": {
          "base_uri": "https://localhost:8080/"
        },
        "outputId": "81c718f5-263a-4bf6-a51d-4253ea3bf077"
      },
      "execution_count": 19,
      "outputs": [
        {
          "output_type": "stream",
          "name": "stdout",
          "text": [
            "       id  age        status\n",
            "0    1001   26  1_outpatient\n",
            "1    1002   24  1_outpatient\n",
            "2    1003   57  1_outpatient\n",
            "3    1004   29  1_outpatient\n",
            "4    1005   38   0_inpatient\n",
            "..    ...  ...           ...\n",
            "597  3021   39  1_outpatient\n",
            "598  3022   50  1_outpatient\n",
            "599  4001   29  1_outpatient\n",
            "600  4002   40  1_outpatient\n",
            "601  4003   73  1_outpatient\n",
            "\n",
            "[602 rows x 3 columns]\n"
          ]
        }
      ]
    },
    {
      "cell_type": "code",
      "source": [
        "#Left join\n",
        "data_leftjoin = data_1.merge(data_3, how='left')\n",
        "print(data_leftjoin)"
      ],
      "metadata": {
        "colab": {
          "base_uri": "https://localhost:8080/"
        },
        "id": "LMQy1-tory3v",
        "outputId": "55d0039b-20e9-4c82-bd75-822987835360"
      },
      "execution_count": 16,
      "outputs": [
        {
          "output_type": "stream",
          "name": "stdout",
          "text": [
            "       id  age status\n",
            "0    1001   26    NaN\n",
            "1    1002   24    NaN\n",
            "2    1003   57    NaN\n",
            "3    1004   29    NaN\n",
            "4    1005   38    NaN\n",
            "..    ...  ...    ...\n",
            "597  3021   39    NaN\n",
            "598  3022   50    NaN\n",
            "599  4001   29    NaN\n",
            "600  4002   40    NaN\n",
            "601  4003   73    NaN\n",
            "\n",
            "[602 rows x 3 columns]\n"
          ]
        }
      ]
    },
    {
      "cell_type": "code",
      "source": [
        "#Right Join\n",
        "data_rightjoin = data_1.merge(data_3, how='right')\n",
        "print(data_rightjoin)"
      ],
      "metadata": {
        "colab": {
          "base_uri": "https://localhost:8080/"
        },
        "id": "P6_I6mfEtEgh",
        "outputId": "3636afd6-e7c2-4aa5-9161-369f9cffdb80"
      },
      "execution_count": 17,
      "outputs": [
        {
          "output_type": "stream",
          "name": "stdout",
          "text": [
            "       id  age        status\n",
            "0    4004  NaN  1_outpatient\n",
            "1    4005  NaN  1_outpatient\n",
            "2    4006  NaN  1_outpatient\n",
            "3    4007  NaN  1_outpatient\n",
            "4    4008  NaN   0_inpatient\n",
            "..    ...  ...           ...\n",
            "597  4601  NaN  1_outpatient\n",
            "598  4602  NaN  1_outpatient\n",
            "599  4603  NaN  1_outpatient\n",
            "600  4604  NaN  1_outpatient\n",
            "601  4605  NaN  1_outpatient\n",
            "\n",
            "[602 rows x 3 columns]\n"
          ]
        }
      ]
    },
    {
      "cell_type": "code",
      "source": [
        "#First some values\n",
        "data_first=data_1.head(10)\n",
        "print(data_first)\n"
      ],
      "metadata": {
        "colab": {
          "base_uri": "https://localhost:8080/"
        },
        "id": "pUNVFgsvuT9A",
        "outputId": "1a37a159-1ace-4fb2-dbc1-89c2c7b8dedd"
      },
      "execution_count": 20,
      "outputs": [
        {
          "output_type": "stream",
          "name": "stdout",
          "text": [
            "     id  age\n",
            "0  1001   26\n",
            "1  1002   24\n",
            "2  1003   57\n",
            "3  1004   29\n",
            "4  1005   38\n",
            "5  1006   59\n",
            "6  1007   60\n",
            "7  1008   29\n",
            "8  1009   53\n",
            "9  1010   20\n"
          ]
        }
      ]
    },
    {
      "cell_type": "code",
      "source": [
        "#Last some values\n",
        "data_last=data_1.tail(10)\n",
        "print(data_last)"
      ],
      "metadata": {
        "colab": {
          "base_uri": "https://localhost:8080/"
        },
        "id": "DOxrfNveuZTH",
        "outputId": "58f30923-e370-4b79-9bcc-4d5d58ae7f5e"
      },
      "execution_count": 21,
      "outputs": [
        {
          "output_type": "stream",
          "name": "stdout",
          "text": [
            "       id  age\n",
            "592  3016   25\n",
            "593  3017   52\n",
            "594  3018   34\n",
            "595  3019   56\n",
            "596  3020   27\n",
            "597  3021   39\n",
            "598  3022   50\n",
            "599  4001   29\n",
            "600  4002   40\n",
            "601  4003   73\n"
          ]
        }
      ]
    },
    {
      "cell_type": "code",
      "source": [
        "#Description of a data set\n",
        "data_descr=data_frame.describe()\n",
        "print(data_descr)"
      ],
      "metadata": {
        "colab": {
          "base_uri": "https://localhost:8080/"
        },
        "id": "gy5MI0UNvp3U",
        "outputId": "5539d1bf-1145-42cc-8054-0ab97183fadd"
      },
      "execution_count": 22,
      "outputs": [
        {
          "output_type": "stream",
          "name": "stdout",
          "text": [
            "         rownames           id         age        risk      bleed\n",
            "count  602.000000   602.000000  602.000000  602.000000  27.000000\n",
            "mean   301.500000  1939.425249   45.269103    2.381229   1.592593\n",
            "std    173.926709   568.733133   13.297968    0.881269   0.500712\n",
            "min      1.000000  1001.000000   19.000000    1.000000   1.000000\n",
            "25%    151.250000  1152.250000   35.000000    1.500000   1.000000\n",
            "50%    301.500000  2137.500000   45.000000    2.500000   2.000000\n",
            "75%    451.750000  2288.750000   54.000000    3.000000   2.000000\n",
            "max    602.000000  4003.000000   90.000000    5.500000   2.000000\n"
          ]
        }
      ]
    }
  ]
}