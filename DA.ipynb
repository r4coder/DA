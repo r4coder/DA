{
  "nbformat": 4,
  "nbformat_minor": 0,
  "metadata": {
    "colab": {
      "provenance": [],
      "authorship_tag": "ABX9TyP301QT8vevQ3J6qpk4NqZ5",
      "include_colab_link": true
    },
    "kernelspec": {
      "name": "python3",
      "display_name": "Python 3"
    },
    "language_info": {
      "name": "python"
    }
  },
  "cells": [
    {
      "cell_type": "markdown",
      "metadata": {
        "id": "view-in-github",
        "colab_type": "text"
      },
      "source": [
        "<a href=\"https://colab.research.google.com/github/r4coder/DA/blob/main/DA.ipynb\" target=\"_parent\"><img src=\"https://colab.research.google.com/assets/colab-badge.svg\" alt=\"Open In Colab\"/></a>"
      ]
    },
    {
      "cell_type": "markdown",
      "source": [
        "#**Merging database-style dataframes**"
      ],
      "metadata": {
        "id": "TNWSW59isn6N"
      }
    },
    {
      "cell_type": "code",
      "source": [
        "#Loading the dataset\n",
        "import pandas as pd\n",
        "import numpy as np\n",
        "data_frame=pd.read_csv(\"https://raw.githubusercontent.com/salemprakash/EDA/main/Data/indo_rct.csv\")\n",
        "print(data_frame)"
      ],
      "metadata": {
        "colab": {
          "base_uri": "https://localhost:8080/"
        },
        "id": "B7Bczv4gtf1A",
        "outputId": "66afae25-6c42-42dc-cb83-072fd1f2ef7f"
      },
      "execution_count": null,
      "outputs": [
        {
          "output_type": "stream",
          "name": "stdout",
          "text": [
            "     rownames    id    site  age  risk    gender outcome    sod    pep  \\\n",
            "0           1  1001    1_UM   26   2.0  1_female   1_yes  1_yes   0_no   \n",
            "1           2  1002    1_UM   24   1.0    2_male    0_no   0_no  1_yes   \n",
            "2           3  1003    1_UM   57   1.0  1_female    0_no  1_yes   0_no   \n",
            "3           4  1004    1_UM   29   2.0  1_female   1_yes  1_yes   0_no   \n",
            "4           5  1005    1_UM   38   3.5  1_female    0_no  1_yes  1_yes   \n",
            "..        ...   ...     ...  ...   ...       ...     ...    ...    ...   \n",
            "597       598  3021    3_UK   39   2.0  1_female    0_no   0_no   0_no   \n",
            "598       599  3022    3_UK   50   2.5  1_female    0_no  1_yes   0_no   \n",
            "599       600  4001  4_Case   29   1.5  1_female    0_no   0_no   0_no   \n",
            "600       601  4002  4_Case   40   1.5  1_female    0_no  1_yes   0_no   \n",
            "601       602  4003  4_Case   73   2.0  1_female    0_no   0_no   0_no   \n",
            "\n",
            "    recpanc  ... sodsom bsphinc bstent  chole pbmal  train        status  \\\n",
            "0     1_yes  ...   0_no    0_no   0_no   0_no  0_no  1_yes  1_outpatient   \n",
            "1      0_no  ...   0_no   1_yes  1_yes  1_yes  0_no   0_no  1_outpatient   \n",
            "2      0_no  ...   0_no    0_no   0_no   0_no  0_no   0_no  1_outpatient   \n",
            "3      0_no  ...   0_no   1_yes   0_no  1_yes  0_no  1_yes  1_outpatient   \n",
            "4      0_no  ...  1_yes   1_yes   0_no   0_no  0_no  1_yes   0_inpatient   \n",
            "..      ...  ...    ...     ...    ...    ...   ...    ...           ...   \n",
            "597   1_yes  ...   0_no    0_no   0_no   0_no  0_no   0_no  1_outpatient   \n",
            "598   1_yes  ...  1_yes   1_yes   0_no   0_no  0_no   0_no  1_outpatient   \n",
            "599    0_no  ...   0_no   1_yes   0_no  1_yes  0_no  1_yes  1_outpatient   \n",
            "600    0_no  ...   0_no   1_yes   0_no   0_no  0_no  1_yes  1_outpatient   \n",
            "601    0_no  ...   0_no   1_yes  1_yes   0_no  0_no  1_yes  1_outpatient   \n",
            "\n",
            "         type              rx bleed  \n",
            "0    1_type 1  1_indomethacin   NaN  \n",
            "1    0_no SOD       0_placebo   NaN  \n",
            "2    2_type 2       0_placebo   NaN  \n",
            "3    1_type 1       0_placebo   NaN  \n",
            "4    1_type 1  1_indomethacin   NaN  \n",
            "..        ...             ...   ...  \n",
            "597  0_no SOD       0_placebo   NaN  \n",
            "598  2_type 2       0_placebo   NaN  \n",
            "599  1_type 1       0_placebo   NaN  \n",
            "600  1_type 1  1_indomethacin   NaN  \n",
            "601  0_no SOD  1_indomethacin   NaN  \n",
            "\n",
            "[602 rows x 34 columns]\n"
          ]
        }
      ]
    },
    {
      "cell_type": "code",
      "source": [
        "#Making data set-1 from data set\n",
        "data_1=data_frame[['id','age']]\n",
        "print(data_1)"
      ],
      "metadata": {
        "id": "Dxs2kFwxtco6",
        "colab": {
          "base_uri": "https://localhost:8080/"
        },
        "outputId": "004ba0a8-f067-40d2-ad9b-7434765297c1"
      },
      "execution_count": null,
      "outputs": [
        {
          "output_type": "stream",
          "name": "stdout",
          "text": [
            "       id  age\n",
            "0    1001   26\n",
            "1    1002   24\n",
            "2    1003   57\n",
            "3    1004   29\n",
            "4    1005   38\n",
            "..    ...  ...\n",
            "597  3021   39\n",
            "598  3022   50\n",
            "599  4001   29\n",
            "600  4002   40\n",
            "601  4003   73\n",
            "\n",
            "[602 rows x 2 columns]\n"
          ]
        }
      ]
    },
    {
      "cell_type": "code",
      "source": [
        "#Making data set-2 from data set\n",
        "data_2=data_frame[['id','status']]\n",
        "print(data_2)"
      ],
      "metadata": {
        "colab": {
          "base_uri": "https://localhost:8080/"
        },
        "id": "i4qFO9h4GKS6",
        "outputId": "24e3f35e-1caf-4949-9176-8c777a6689b1"
      },
      "execution_count": null,
      "outputs": [
        {
          "output_type": "stream",
          "name": "stdout",
          "text": [
            "       id        status\n",
            "0    1001  1_outpatient\n",
            "1    1002  1_outpatient\n",
            "2    1003  1_outpatient\n",
            "3    1004  1_outpatient\n",
            "4    1005   0_inpatient\n",
            "..    ...           ...\n",
            "597  3021  1_outpatient\n",
            "598  3022  1_outpatient\n",
            "599  4001  1_outpatient\n",
            "600  4002  1_outpatient\n",
            "601  4003  1_outpatient\n",
            "\n",
            "[602 rows x 2 columns]\n"
          ]
        }
      ]
    },
    {
      "cell_type": "code",
      "source": [
        "#Making data set-3 drom data set\n",
        "data_3=data_frame[['id','status']]\n",
        "prev= data_3['id'].tail(1).values[0]\n",
        "for j in range(len(data_2)):\n",
        "    prev=prev+1\n",
        "    data_3.at[j, 'id']=prev\n",
        "\n",
        "print(data_3)"
      ],
      "metadata": {
        "colab": {
          "base_uri": "https://localhost:8080/"
        },
        "id": "RWZyGTVZsswk",
        "outputId": "356587d3-d7e4-4c31-e30f-56f6bfc297df"
      },
      "execution_count": null,
      "outputs": [
        {
          "output_type": "stream",
          "name": "stdout",
          "text": [
            "       id        status\n",
            "0    4004  1_outpatient\n",
            "1    4005  1_outpatient\n",
            "2    4006  1_outpatient\n",
            "3    4007  1_outpatient\n",
            "4    4008   0_inpatient\n",
            "..    ...           ...\n",
            "597  4601  1_outpatient\n",
            "598  4602  1_outpatient\n",
            "599  4603  1_outpatient\n",
            "600  4604  1_outpatient\n",
            "601  4605  1_outpatient\n",
            "\n",
            "[602 rows x 2 columns]\n"
          ]
        }
      ]
    },
    {
      "cell_type": "markdown",
      "source": [
        "#**Merging**"
      ],
      "metadata": {
        "id": "2D_rzoehpmAb"
      }
    },
    {
      "cell_type": "code",
      "source": [
        "#Concentation\n",
        "data_concat=pd.concat([data_1, data_2], ignore_index=True)\n",
        "print(data_concat)"
      ],
      "metadata": {
        "colab": {
          "base_uri": "https://localhost:8080/"
        },
        "id": "IgUPkMR_XY23",
        "outputId": "0f2a6d2d-0c42-43e3-a8ac-a01be36fd707"
      },
      "execution_count": null,
      "outputs": [
        {
          "output_type": "stream",
          "name": "stdout",
          "text": [
            "        id   age        status\n",
            "0     1001  26.0           NaN\n",
            "1     1002  24.0           NaN\n",
            "2     1003  57.0           NaN\n",
            "3     1004  29.0           NaN\n",
            "4     1005  38.0           NaN\n",
            "...    ...   ...           ...\n",
            "1199  3021   NaN  1_outpatient\n",
            "1200  3022   NaN  1_outpatient\n",
            "1201  4001   NaN  1_outpatient\n",
            "1202  4002   NaN  1_outpatient\n",
            "1203  4003   NaN  1_outpatient\n",
            "\n",
            "[1204 rows x 3 columns]\n"
          ]
        }
      ]
    },
    {
      "cell_type": "code",
      "source": [
        "#Inner Join\n",
        "data_innerjoin = data_1.merge(data_2, how='inner')\n",
        "print(data_innerjoin)"
      ],
      "metadata": {
        "id": "6OZGZ7SDZJTa",
        "colab": {
          "base_uri": "https://localhost:8080/"
        },
        "outputId": "31b3adca-9dad-4861-a52c-0122c9757271"
      },
      "execution_count": null,
      "outputs": [
        {
          "output_type": "stream",
          "name": "stdout",
          "text": [
            "       id  age        status\n",
            "0    1001   26  1_outpatient\n",
            "1    1002   24  1_outpatient\n",
            "2    1003   57  1_outpatient\n",
            "3    1004   29  1_outpatient\n",
            "4    1005   38   0_inpatient\n",
            "..    ...  ...           ...\n",
            "597  3021   39  1_outpatient\n",
            "598  3022   50  1_outpatient\n",
            "599  4001   29  1_outpatient\n",
            "600  4002   40  1_outpatient\n",
            "601  4003   73  1_outpatient\n",
            "\n",
            "[602 rows x 3 columns]\n"
          ]
        }
      ]
    },
    {
      "cell_type": "code",
      "source": [
        "#Left join\n",
        "data_leftjoin = data_1.merge(data_3, how='left')\n",
        "print(data_leftjoin)"
      ],
      "metadata": {
        "colab": {
          "base_uri": "https://localhost:8080/"
        },
        "id": "LMQy1-tory3v",
        "outputId": "dc334a93-0044-4b8a-ebbc-9fb50834feb2"
      },
      "execution_count": null,
      "outputs": [
        {
          "output_type": "stream",
          "name": "stdout",
          "text": [
            "       id  age status\n",
            "0    1001   26    NaN\n",
            "1    1002   24    NaN\n",
            "2    1003   57    NaN\n",
            "3    1004   29    NaN\n",
            "4    1005   38    NaN\n",
            "..    ...  ...    ...\n",
            "597  3021   39    NaN\n",
            "598  3022   50    NaN\n",
            "599  4001   29    NaN\n",
            "600  4002   40    NaN\n",
            "601  4003   73    NaN\n",
            "\n",
            "[602 rows x 3 columns]\n"
          ]
        }
      ]
    },
    {
      "cell_type": "code",
      "source": [
        "#Right Join\n",
        "data_rightjoin = data_1.merge(data_3, how='right')\n",
        "print(data_rightjoin)"
      ],
      "metadata": {
        "colab": {
          "base_uri": "https://localhost:8080/"
        },
        "id": "P6_I6mfEtEgh",
        "outputId": "77644ab5-9f3a-4fb1-b28c-a2a0936757f2"
      },
      "execution_count": null,
      "outputs": [
        {
          "output_type": "stream",
          "name": "stdout",
          "text": [
            "       id  age        status\n",
            "0    4004  NaN  1_outpatient\n",
            "1    4005  NaN  1_outpatient\n",
            "2    4006  NaN  1_outpatient\n",
            "3    4007  NaN  1_outpatient\n",
            "4    4008  NaN   0_inpatient\n",
            "..    ...  ...           ...\n",
            "597  4601  NaN  1_outpatient\n",
            "598  4602  NaN  1_outpatient\n",
            "599  4603  NaN  1_outpatient\n",
            "600  4604  NaN  1_outpatient\n",
            "601  4605  NaN  1_outpatient\n",
            "\n",
            "[602 rows x 3 columns]\n"
          ]
        }
      ]
    },
    {
      "cell_type": "code",
      "source": [
        "#First some values\n",
        "data_first=data_1.head(10)\n",
        "print(data_first)\n"
      ],
      "metadata": {
        "colab": {
          "base_uri": "https://localhost:8080/"
        },
        "id": "pUNVFgsvuT9A",
        "outputId": "2f81994a-d7d5-4370-c9c9-9828712e7a36"
      },
      "execution_count": null,
      "outputs": [
        {
          "output_type": "stream",
          "name": "stdout",
          "text": [
            "     id  age\n",
            "0  1001   26\n",
            "1  1002   24\n",
            "2  1003   57\n",
            "3  1004   29\n",
            "4  1005   38\n",
            "5  1006   59\n",
            "6  1007   60\n",
            "7  1008   29\n",
            "8  1009   53\n",
            "9  1010   20\n"
          ]
        }
      ]
    },
    {
      "cell_type": "code",
      "source": [
        "#Last some values\n",
        "data_last=data_1.tail(10)\n",
        "print(data_last)"
      ],
      "metadata": {
        "colab": {
          "base_uri": "https://localhost:8080/"
        },
        "id": "DOxrfNveuZTH",
        "outputId": "b59bc48d-d5fb-4797-a4f1-a716529d0f0e"
      },
      "execution_count": null,
      "outputs": [
        {
          "output_type": "stream",
          "name": "stdout",
          "text": [
            "       id  age\n",
            "592  3016   25\n",
            "593  3017   52\n",
            "594  3018   34\n",
            "595  3019   56\n",
            "596  3020   27\n",
            "597  3021   39\n",
            "598  3022   50\n",
            "599  4001   29\n",
            "600  4002   40\n",
            "601  4003   73\n"
          ]
        }
      ]
    },
    {
      "cell_type": "code",
      "source": [
        "#Description of a data set\n",
        "data_descr=data_frame.describe()\n",
        "print(data_descr)"
      ],
      "metadata": {
        "colab": {
          "base_uri": "https://localhost:8080/"
        },
        "id": "gy5MI0UNvp3U",
        "outputId": "10e14382-1c4b-47c4-d1c7-b0389b21ffb2"
      },
      "execution_count": null,
      "outputs": [
        {
          "output_type": "stream",
          "name": "stdout",
          "text": [
            "         rownames           id         age        risk      bleed\n",
            "count  602.000000   602.000000  602.000000  602.000000  27.000000\n",
            "mean   301.500000  1939.425249   45.269103    2.381229   1.592593\n",
            "std    173.926709   568.733133   13.297968    0.881269   0.500712\n",
            "min      1.000000  1001.000000   19.000000    1.000000   1.000000\n",
            "25%    151.250000  1152.250000   35.000000    1.500000   1.000000\n",
            "50%    301.500000  2137.500000   45.000000    2.500000   2.000000\n",
            "75%    451.750000  2288.750000   54.000000    3.000000   2.000000\n",
            "max    602.000000  4003.000000   90.000000    5.500000   2.000000\n"
          ]
        }
      ]
    },
    {
      "cell_type": "markdown",
      "source": [
        "# **Reshaping with Hierarchical Indexing**"
      ],
      "metadata": {
        "id": "da8JaXu5x1Gj"
      }
    },
    {
      "cell_type": "code",
      "source": [
        "#Reshaping the data set with indexing\n",
        "data_reshape_values= np.arange(9).reshape((3,3))\n",
        "indexers = ['Store 1', 'Store 2', 'Store 3']\n",
        "data_reshape = pd.DataFrame(data_reshape_values, index=indexers, columns=['Production', 'Week', 'Demand'])\n",
        "print(data_reshape)\n"
      ],
      "metadata": {
        "colab": {
          "base_uri": "https://localhost:8080/"
        },
        "id": "0sW5U5OOx9hs",
        "outputId": "38f470f8-027d-4e28-9081-8af69b9864f7"
      },
      "execution_count": null,
      "outputs": [
        {
          "output_type": "stream",
          "name": "stdout",
          "text": [
            "         Production  Week  Demand\n",
            "Store 1           0     1       2\n",
            "Store 2           3     4       5\n",
            "Store 3           6     7       8\n"
          ]
        }
      ]
    },
    {
      "cell_type": "code",
      "source": [
        "#Stacking up the values of data_reshape data set\n",
        "data_stacked = data_reshape.stack()\n",
        "print(data_stacked)\n"
      ],
      "metadata": {
        "colab": {
          "base_uri": "https://localhost:8080/"
        },
        "id": "Oau3EM-16oVA",
        "outputId": "a556b7e8-9453-4759-bb38-b641d14a5ab3"
      },
      "execution_count": null,
      "outputs": [
        {
          "output_type": "stream",
          "name": "stdout",
          "text": [
            "Store 1  Production    0\n",
            "         Week          1\n",
            "         Demand        2\n",
            "Store 2  Production    3\n",
            "         Week          4\n",
            "         Demand        5\n",
            "Store 3  Production    6\n",
            "         Week          7\n",
            "         Demand        8\n",
            "dtype: int64\n"
          ]
        }
      ]
    },
    {
      "cell_type": "code",
      "source": [
        "#Stacked to normal data set format\n",
        "data_unstack=data_stacked.unstack()\n",
        "print(data_unstack)\n"
      ],
      "metadata": {
        "colab": {
          "base_uri": "https://localhost:8080/"
        },
        "id": "vl_Fq0Ng7HBi",
        "outputId": "052b7d62-5bd9-4222-a53e-0ac84165a1ca"
      },
      "execution_count": null,
      "outputs": [
        {
          "output_type": "stream",
          "name": "stdout",
          "text": [
            "         Production  Week  Demand\n",
            "Store 1           0     1       2\n",
            "Store 2           3     4       5\n",
            "Store 3           6     7       8\n"
          ]
        }
      ]
    },
    {
      "cell_type": "code",
      "source": [
        "#Concatenates two series with hierarchical indexing and unstacks the result to create a DataFrame.\n",
        "Series_1 = pd.Series([10, 20, 30], index=['X', 'Y', 'Z'])\n",
        "Series_2 = pd.Series([40, 50, 60, 70], index=['P', 'Q', 'R', 'S'])\n",
        "Series_Concat = pd.concat([Series_1, Series_2], keys=['GroupA', 'GroupB'])\n",
        "Series_concat_unstack = Series_Concat.unstack()\n",
        "print(Series_concat_unstack)\n"
      ],
      "metadata": {
        "id": "2s2_7hD57jhg",
        "colab": {
          "base_uri": "https://localhost:8080/"
        },
        "outputId": "861ccd5b-8e2c-421f-c4e7-93ca9e7ab168"
      },
      "execution_count": null,
      "outputs": [
        {
          "output_type": "stream",
          "name": "stdout",
          "text": [
            "           P     Q     R     S     X     Y     Z\n",
            "GroupA   NaN   NaN   NaN   NaN  10.0  20.0  30.0\n",
            "GroupB  40.0  50.0  60.0  70.0   NaN   NaN   NaN\n"
          ]
        }
      ]
    },
    {
      "cell_type": "markdown",
      "source": [
        "# **Transformation techniques**"
      ],
      "metadata": {
        "id": "Q01s44_bCysS"
      }
    },
    {
      "cell_type": "markdown",
      "source": [
        "1. Data deduplication"
      ],
      "metadata": {
        "id": "hX5gA6jFY6-V"
      }
    },
    {
      "cell_type": "code",
      "source": [
        "#Duplicated values of a data set\n",
        "data_duplicated=data_1.duplicated()\n",
        "print(data_duplicated)"
      ],
      "metadata": {
        "colab": {
          "base_uri": "https://localhost:8080/"
        },
        "id": "ohIgPDalY-Iv",
        "outputId": "0e32fe73-955f-4a2e-ce9c-8b3a020f3a25"
      },
      "execution_count": null,
      "outputs": [
        {
          "output_type": "stream",
          "name": "stdout",
          "text": [
            "0      False\n",
            "1      False\n",
            "2      False\n",
            "3      False\n",
            "4      False\n",
            "       ...  \n",
            "597    False\n",
            "598    False\n",
            "599    False\n",
            "600    False\n",
            "601    False\n",
            "Length: 602, dtype: bool\n"
          ]
        }
      ]
    },
    {
      "cell_type": "code",
      "source": [
        "#Dropping Duplicates of a data set\n",
        "data_drop_duplicates=data_1.drop_duplicates()\n",
        "print(data_drop_duplicates)"
      ],
      "metadata": {
        "colab": {
          "base_uri": "https://localhost:8080/"
        },
        "id": "xA6nehTsaInv",
        "outputId": "563c8c4e-7f40-4922-c2ba-f8f1800eb3b6"
      },
      "execution_count": null,
      "outputs": [
        {
          "output_type": "stream",
          "name": "stdout",
          "text": [
            "       id  age\n",
            "0    1001   26\n",
            "1    1002   24\n",
            "2    1003   57\n",
            "3    1004   29\n",
            "4    1005   38\n",
            "..    ...  ...\n",
            "597  3021   39\n",
            "598  3022   50\n",
            "599  4001   29\n",
            "600  4002   40\n",
            "601  4003   73\n",
            "\n",
            "[602 rows x 2 columns]\n"
          ]
        }
      ]
    },
    {
      "cell_type": "code",
      "source": [
        "#Dropping duplicates of a specific column\n",
        "data_drop_duplicate_column=data_frame.drop_duplicates(['gender'])\n",
        "print(data_drop_duplicate_column)"
      ],
      "metadata": {
        "colab": {
          "base_uri": "https://localhost:8080/"
        },
        "id": "f0tdHw5namuS",
        "outputId": "d47eff85-f031-480d-db64-cb77bea766c3"
      },
      "execution_count": null,
      "outputs": [
        {
          "output_type": "stream",
          "name": "stdout",
          "text": [
            "   rownames    id  site  age  risk    gender outcome    sod    pep recpanc  \\\n",
            "0         1  1001  1_UM   26   2.0  1_female   1_yes  1_yes   0_no   1_yes   \n",
            "1         2  1002  1_UM   24   1.0    2_male    0_no   0_no  1_yes    0_no   \n",
            "\n",
            "   ... sodsom bsphinc bstent  chole pbmal  train        status      type  \\\n",
            "0  ...   0_no    0_no   0_no   0_no  0_no  1_yes  1_outpatient  1_type 1   \n",
            "1  ...   0_no   1_yes  1_yes  1_yes  0_no   0_no  1_outpatient  0_no SOD   \n",
            "\n",
            "               rx bleed  \n",
            "0  1_indomethacin   NaN  \n",
            "1       0_placebo   NaN  \n",
            "\n",
            "[2 rows x 34 columns]\n"
          ]
        }
      ]
    },
    {
      "cell_type": "markdown",
      "source": [
        "2.Replacing Values"
      ],
      "metadata": {
        "id": "kF5_jQ3ibt4F"
      }
    },
    {
      "cell_type": "code",
      "source": [
        "#Replacing one value by the other\n",
        "data_replace=data_1.replace(to_replace =1001, value=999)\n",
        "print(data_replace)"
      ],
      "metadata": {
        "colab": {
          "base_uri": "https://localhost:8080/"
        },
        "id": "WWC_VeAXbxb6",
        "outputId": "9eefb35e-7610-4f6e-82a2-4ac6090afea6"
      },
      "execution_count": null,
      "outputs": [
        {
          "output_type": "stream",
          "name": "stdout",
          "text": [
            "       id  age\n",
            "0     999   26\n",
            "1    1002   24\n",
            "2    1003   57\n",
            "3    1004   29\n",
            "4    1005   38\n",
            "..    ...  ...\n",
            "597  3021   39\n",
            "598  3022   50\n",
            "599  4001   29\n",
            "600  4002   40\n",
            "601  4003   73\n",
            "\n",
            "[602 rows x 2 columns]\n"
          ]
        }
      ]
    },
    {
      "cell_type": "code",
      "source": [
        "#Replacing one or more than values by the other\n",
        "data_replace_multiple=data_1.replace(to_replace =[1001,1002], value=[999,1000])\n",
        "print(data_replace_multiple)"
      ],
      "metadata": {
        "colab": {
          "base_uri": "https://localhost:8080/"
        },
        "id": "nBL18YIxkG1F",
        "outputId": "ec95d755-a3a1-4193-c495-f0c8ae9b07b6"
      },
      "execution_count": null,
      "outputs": [
        {
          "output_type": "stream",
          "name": "stdout",
          "text": [
            "       id  age\n",
            "0     999   26\n",
            "1    1000   24\n",
            "2    1003   57\n",
            "3    1004   29\n",
            "4    1005   38\n",
            "..    ...  ...\n",
            "597  3021   39\n",
            "598  3022   50\n",
            "599  4001   29\n",
            "600  4002   40\n",
            "601  4003   73\n",
            "\n",
            "[602 rows x 2 columns]\n"
          ]
        }
      ]
    },
    {
      "cell_type": "markdown",
      "source": [
        "3. Handling missing data"
      ],
      "metadata": {
        "id": "_7XtWvOYk8VU"
      }
    },
    {
      "cell_type": "code",
      "source": [
        "#Checking null values of a data set\n",
        "data_check_null=data_frame.isnull()\n",
        "print(data_check_null)"
      ],
      "metadata": {
        "colab": {
          "base_uri": "https://localhost:8080/"
        },
        "id": "3GqEx8gPk9lf",
        "outputId": "58e8e499-d4df-446e-dafe-99eddca5ca51"
      },
      "execution_count": null,
      "outputs": [
        {
          "output_type": "stream",
          "name": "stdout",
          "text": [
            "     rownames     id   site    age   risk  gender  outcome    sod    pep  \\\n",
            "0       False  False  False  False  False   False    False  False  False   \n",
            "1       False  False  False  False  False   False    False  False  False   \n",
            "2       False  False  False  False  False   False    False  False  False   \n",
            "3       False  False  False  False  False   False    False  False  False   \n",
            "4       False  False  False  False  False   False    False  False  False   \n",
            "..        ...    ...    ...    ...    ...     ...      ...    ...    ...   \n",
            "597     False  False  False  False  False   False    False  False  False   \n",
            "598     False  False  False  False  False   False    False  False  False   \n",
            "599     False  False  False  False  False   False    False  False  False   \n",
            "600     False  False  False  False  False   False    False  False  False   \n",
            "601     False  False  False  False  False   False    False  False  False   \n",
            "\n",
            "     recpanc  ...  sodsom  bsphinc  bstent  chole  pbmal  train  status  \\\n",
            "0      False  ...   False    False   False  False  False  False   False   \n",
            "1      False  ...   False    False   False  False  False  False   False   \n",
            "2      False  ...   False    False   False  False  False  False   False   \n",
            "3      False  ...   False    False   False  False  False  False   False   \n",
            "4      False  ...   False    False   False  False  False  False   False   \n",
            "..       ...  ...     ...      ...     ...    ...    ...    ...     ...   \n",
            "597    False  ...   False    False   False  False  False  False   False   \n",
            "598    False  ...   False    False   False  False  False  False   False   \n",
            "599    False  ...   False    False   False  False  False  False   False   \n",
            "600    False  ...   False    False   False  False  False  False   False   \n",
            "601    False  ...   False    False   False  False  False  False   False   \n",
            "\n",
            "      type     rx  bleed  \n",
            "0    False  False   True  \n",
            "1    False  False   True  \n",
            "2    False  False   True  \n",
            "3    False  False   True  \n",
            "4    False  False   True  \n",
            "..     ...    ...    ...  \n",
            "597  False  False   True  \n",
            "598  False  False   True  \n",
            "599  False  False   True  \n",
            "600  False  False   True  \n",
            "601  False  False   True  \n",
            "\n",
            "[602 rows x 34 columns]\n"
          ]
        }
      ]
    },
    {
      "cell_type": "code",
      "source": [
        "#Checking non null values in a data set\n",
        "data_check_not_null=data_frame.notnull()\n",
        "print(data_check_not_null)"
      ],
      "metadata": {
        "colab": {
          "base_uri": "https://localhost:8080/"
        },
        "id": "c4GKxPHOtfI-",
        "outputId": "b7339981-91ff-41d5-fcfc-d69f9e73af55"
      },
      "execution_count": null,
      "outputs": [
        {
          "output_type": "stream",
          "name": "stdout",
          "text": [
            "     rownames    id  site   age  risk  gender  outcome   sod   pep  recpanc  \\\n",
            "0        True  True  True  True  True    True     True  True  True     True   \n",
            "1        True  True  True  True  True    True     True  True  True     True   \n",
            "2        True  True  True  True  True    True     True  True  True     True   \n",
            "3        True  True  True  True  True    True     True  True  True     True   \n",
            "4        True  True  True  True  True    True     True  True  True     True   \n",
            "..        ...   ...   ...   ...   ...     ...      ...   ...   ...      ...   \n",
            "597      True  True  True  True  True    True     True  True  True     True   \n",
            "598      True  True  True  True  True    True     True  True  True     True   \n",
            "599      True  True  True  True  True    True     True  True  True     True   \n",
            "600      True  True  True  True  True    True     True  True  True     True   \n",
            "601      True  True  True  True  True    True     True  True  True     True   \n",
            "\n",
            "     ...  sodsom  bsphinc  bstent  chole  pbmal  train  status  type    rx  \\\n",
            "0    ...    True     True    True   True   True   True    True  True  True   \n",
            "1    ...    True     True    True   True   True   True    True  True  True   \n",
            "2    ...    True     True    True   True   True   True    True  True  True   \n",
            "3    ...    True     True    True   True   True   True    True  True  True   \n",
            "4    ...    True     True    True   True   True   True    True  True  True   \n",
            "..   ...     ...      ...     ...    ...    ...    ...     ...   ...   ...   \n",
            "597  ...    True     True    True   True   True   True    True  True  True   \n",
            "598  ...    True     True    True   True   True   True    True  True  True   \n",
            "599  ...    True     True    True   True   True   True    True  True  True   \n",
            "600  ...    True     True    True   True   True   True    True  True  True   \n",
            "601  ...    True     True    True   True   True   True    True  True  True   \n",
            "\n",
            "     bleed  \n",
            "0    False  \n",
            "1    False  \n",
            "2    False  \n",
            "3    False  \n",
            "4    False  \n",
            "..     ...  \n",
            "597  False  \n",
            "598  False  \n",
            "599  False  \n",
            "600  False  \n",
            "601  False  \n",
            "\n",
            "[602 rows x 34 columns]\n"
          ]
        }
      ]
    },
    {
      "cell_type": "code",
      "source": [
        "#Counting null values per column\n",
        "data_num_null_values=data_frame.isnull().sum()\n",
        "print(data_num_null_values)"
      ],
      "metadata": {
        "colab": {
          "base_uri": "https://localhost:8080/"
        },
        "id": "8LoG7YtexALJ",
        "outputId": "0801771d-f867-417d-d0f2-63493bda4d4f"
      },
      "execution_count": null,
      "outputs": [
        {
          "output_type": "stream",
          "name": "stdout",
          "text": [
            "rownames         0\n",
            "id               0\n",
            "site             0\n",
            "age              0\n",
            "risk             0\n",
            "gender           0\n",
            "outcome          0\n",
            "sod              0\n",
            "pep              0\n",
            "recpanc          0\n",
            "psphinc          0\n",
            "precut           0\n",
            "difcan           0\n",
            "pneudil          0\n",
            "amp              0\n",
            "paninj           0\n",
            "acinar           0\n",
            "brush            0\n",
            "asa81            0\n",
            "asa325           0\n",
            "asa              0\n",
            "prophystent      0\n",
            "therastent       0\n",
            "pdstent          0\n",
            "sodsom           0\n",
            "bsphinc          0\n",
            "bstent           0\n",
            "chole            0\n",
            "pbmal            0\n",
            "train            0\n",
            "status           0\n",
            "type             0\n",
            "rx               0\n",
            "bleed          575\n",
            "dtype: int64\n"
          ]
        }
      ]
    },
    {
      "cell_type": "code",
      "source": [
        "#Total null values in a data set\n",
        "data_num_null_values=data_frame.isnull().sum().sum()\n",
        "print(data_num_null_values)"
      ],
      "metadata": {
        "colab": {
          "base_uri": "https://localhost:8080/"
        },
        "id": "pyCLaOOfxVgk",
        "outputId": "fe438b6d-921d-46ab-8872-4c62dc4d0d60"
      },
      "execution_count": null,
      "outputs": [
        {
          "output_type": "stream",
          "name": "stdout",
          "text": [
            "575\n"
          ]
        }
      ]
    },
    {
      "cell_type": "code",
      "source": [
        "#Total number of non missing values\n",
        "data_values_count=data_frame.count()\n",
        "print(data_values_count)"
      ],
      "metadata": {
        "colab": {
          "base_uri": "https://localhost:8080/"
        },
        "id": "tiHR-BErxmYi",
        "outputId": "c4a47fed-0b21-4285-eb29-35781a13ad39"
      },
      "execution_count": null,
      "outputs": [
        {
          "output_type": "stream",
          "name": "stdout",
          "text": [
            "rownames       602\n",
            "id             602\n",
            "site           602\n",
            "age            602\n",
            "risk           602\n",
            "gender         602\n",
            "outcome        602\n",
            "sod            602\n",
            "pep            602\n",
            "recpanc        602\n",
            "psphinc        602\n",
            "precut         602\n",
            "difcan         602\n",
            "pneudil        602\n",
            "amp            602\n",
            "paninj         602\n",
            "acinar         602\n",
            "brush          602\n",
            "asa81          602\n",
            "asa325         602\n",
            "asa            602\n",
            "prophystent    602\n",
            "therastent     602\n",
            "pdstent        602\n",
            "sodsom         602\n",
            "bsphinc        602\n",
            "bstent         602\n",
            "chole          602\n",
            "pbmal          602\n",
            "train          602\n",
            "status         602\n",
            "type           602\n",
            "rx             602\n",
            "bleed           27\n",
            "dtype: int64\n"
          ]
        }
      ]
    },
    {
      "cell_type": "markdown",
      "source": [
        "4.Dropping Missing Values"
      ],
      "metadata": {
        "id": "YpGlz_0Xx-VO"
      }
    },
    {
      "cell_type": "code",
      "source": [
        "#Remove rows with null values\n",
        "data_remove_null=data_frame.dropna()\n",
        "print(data_remove_null)"
      ],
      "metadata": {
        "colab": {
          "base_uri": "https://localhost:8080/"
        },
        "id": "JaVmDr2SyFUX",
        "outputId": "52ee1b3c-fba4-40d4-a8b9-371d454a33de"
      },
      "execution_count": null,
      "outputs": [
        {
          "output_type": "stream",
          "name": "stdout",
          "text": [
            "     rownames    id  site  age  risk    gender outcome    sod    pep recpanc  \\\n",
            "7           8  1008  1_UM   29   1.0    2_male    0_no   0_no   0_no    0_no   \n",
            "17         18  1018  1_UM   46   1.5  1_female    0_no   0_no   0_no    0_no   \n",
            "27         28  1028  1_UM   42   4.0  1_female    0_no  1_yes  1_yes   1_yes   \n",
            "31         32  1032  1_UM   51   1.5  1_female   1_yes   0_no   0_no    0_no   \n",
            "43         44  1044  1_UM   71   2.0  1_female    0_no  1_yes   0_no    0_no   \n",
            "46         47  1047  1_UM   46   1.0    2_male   1_yes   0_no   0_no    0_no   \n",
            "50         51  1051  1_UM   51   1.0    2_male    0_no   0_no   0_no    0_no   \n",
            "66         67  1067  1_UM   34   1.5    2_male    0_no   0_no  1_yes   1_yes   \n",
            "81         82  1082  1_UM   55   2.5    2_male    0_no   0_no   0_no   1_yes   \n",
            "109       110  1110  1_UM   36   2.0  1_female    0_no  1_yes   0_no    0_no   \n",
            "128       129  1129  1_UM   41   3.5    2_male   1_yes  1_yes  1_yes   1_yes   \n",
            "129       130  1130  1_UM   50   4.0  1_female   1_yes  1_yes  1_yes   1_yes   \n",
            "142       143  1144  1_UM   44   1.5    2_male    0_no   0_no  1_yes   1_yes   \n",
            "143       144  1145  1_UM   34   2.0    2_male   1_yes   0_no   0_no   1_yes   \n",
            "148       149  1150  1_UM   53   2.5  1_female    0_no  1_yes   0_no   1_yes   \n",
            "213       214  2050  2_IU   25   1.5  1_female   1_yes   0_no   0_no    0_no   \n",
            "231       232  2068  2_IU   74   2.5    2_male    0_no  1_yes   0_no   1_yes   \n",
            "274       275  2111  2_IU   53   3.0  1_female    0_no  1_yes   0_no    0_no   \n",
            "275       276  2112  2_IU   63   3.0  1_female   1_yes  1_yes  1_yes    0_no   \n",
            "313       314  2150  2_IU   46   2.5  1_female    0_no  1_yes   0_no    0_no   \n",
            "402       403  2240  2_IU   38   1.5  1_female    0_no  1_yes   0_no    0_no   \n",
            "474       475  2312  2_IU   32   3.0    2_male   1_yes  1_yes   0_no    0_no   \n",
            "477       478  2315  2_IU   23   2.5    2_male    0_no  1_yes   0_no   1_yes   \n",
            "478       479  2316  2_IU   47   3.0  1_female    0_no  1_yes   0_no   1_yes   \n",
            "481       482  2319  2_IU   31   2.5  1_female    0_no  1_yes   0_no    0_no   \n",
            "535       536  2373  2_IU   63   1.5  1_female   1_yes  1_yes   0_no   1_yes   \n",
            "536       537  2374  2_IU   36   4.0  1_female   1_yes  1_yes  1_yes   1_yes   \n",
            "\n",
            "     ... sodsom bsphinc bstent  chole pbmal  train        status      type  \\\n",
            "7    ...   0_no   1_yes   0_no  1_yes  0_no  1_yes  1_outpatient  0_no SOD   \n",
            "17   ...   0_no    0_no   0_no   0_no  0_no  1_yes  1_outpatient  0_no SOD   \n",
            "27   ...  1_yes   1_yes   0_no   0_no  0_no  1_yes  1_outpatient  1_type 1   \n",
            "31   ...   0_no   1_yes  1_yes   0_no  0_no  1_yes  1_outpatient  0_no SOD   \n",
            "43   ...   0_no   1_yes   0_no   0_no  0_no   0_no  1_outpatient  1_type 1   \n",
            "46   ...   0_no   1_yes  1_yes   0_no  0_no  1_yes  1_outpatient  0_no SOD   \n",
            "50   ...   0_no   1_yes  1_yes   0_no  0_no  1_yes  1_outpatient  0_no SOD   \n",
            "66   ...   0_no    0_no   0_no   0_no  0_no  1_yes  1_outpatient  0_no SOD   \n",
            "81   ...   0_no    0_no   0_no   0_no  0_no  1_yes  1_outpatient  0_no SOD   \n",
            "109  ...   0_no   1_yes   0_no   0_no  0_no  1_yes  1_outpatient  1_type 1   \n",
            "128  ...   0_no   1_yes   0_no   0_no  0_no  1_yes  1_outpatient  1_type 1   \n",
            "129  ...  1_yes   1_yes   0_no   0_no  0_no   0_no  1_outpatient  1_type 1   \n",
            "142  ...   0_no    0_no  1_yes   0_no  0_no  1_yes  1_outpatient  0_no SOD   \n",
            "143  ...   0_no    0_no   0_no   0_no  0_no  1_yes  1_outpatient  0_no SOD   \n",
            "148  ...   0_no   1_yes   0_no   0_no  0_no   0_no  1_outpatient  1_type 1   \n",
            "213  ...   0_no    0_no   0_no   0_no  0_no   0_no  1_outpatient  0_no SOD   \n",
            "231  ...   0_no   1_yes   0_no   0_no  0_no   0_no  1_outpatient  2_type 2   \n",
            "274  ...  1_yes   1_yes   0_no   0_no  0_no   0_no  1_outpatient  3_type 3   \n",
            "275  ...   0_no    0_no   0_no   0_no  0_no   0_no  1_outpatient  2_type 2   \n",
            "313  ...  1_yes   1_yes   0_no   0_no  0_no  1_yes  1_outpatient  2_type 2   \n",
            "402  ...  1_yes   1_yes   0_no   0_no  0_no   0_no  1_outpatient  2_type 2   \n",
            "474  ...  1_yes   1_yes   0_no   0_no  0_no  1_yes  1_outpatient  2_type 2   \n",
            "477  ...  1_yes    0_no   0_no   0_no  0_no  1_yes  1_outpatient  2_type 2   \n",
            "478  ...  1_yes   1_yes   0_no   0_no  0_no   0_no  1_outpatient  2_type 2   \n",
            "481  ...  1_yes   1_yes   0_no   0_no  0_no  1_yes  1_outpatient  3_type 3   \n",
            "535  ...   0_no   1_yes   0_no   0_no  0_no  1_yes  1_outpatient  2_type 2   \n",
            "536  ...  1_yes    0_no   0_no   0_no  0_no  1_yes  1_outpatient  2_type 2   \n",
            "\n",
            "                 rx bleed  \n",
            "7    1_indomethacin   2.0  \n",
            "17        0_placebo   2.0  \n",
            "27   1_indomethacin   1.0  \n",
            "31        0_placebo   2.0  \n",
            "43   1_indomethacin   1.0  \n",
            "46        0_placebo   1.0  \n",
            "50        0_placebo   2.0  \n",
            "66        0_placebo   2.0  \n",
            "81   1_indomethacin   1.0  \n",
            "109  1_indomethacin   2.0  \n",
            "128  1_indomethacin   2.0  \n",
            "129       0_placebo   2.0  \n",
            "142  1_indomethacin   2.0  \n",
            "143  1_indomethacin   2.0  \n",
            "148  1_indomethacin   2.0  \n",
            "213       0_placebo   1.0  \n",
            "231       0_placebo   1.0  \n",
            "274       0_placebo   1.0  \n",
            "275  1_indomethacin   1.0  \n",
            "313       0_placebo   2.0  \n",
            "402       0_placebo   1.0  \n",
            "474       0_placebo   2.0  \n",
            "477       0_placebo   2.0  \n",
            "478  1_indomethacin   2.0  \n",
            "481       0_placebo   2.0  \n",
            "535       0_placebo   1.0  \n",
            "536       0_placebo   1.0  \n",
            "\n",
            "[27 rows x 34 columns]\n"
          ]
        }
      ]
    },
    {
      "cell_type": "code",
      "source": [
        "#Dropping rows with all na values in a row\n",
        "data_remove_null_all=data_frame.dropna(how='all')\n",
        "print(data_remove_null_all)"
      ],
      "metadata": {
        "colab": {
          "base_uri": "https://localhost:8080/"
        },
        "id": "Z3OTh8y15ReX",
        "outputId": "f19f1c9f-fcd8-4fae-a9ba-8f2baa72bdf0"
      },
      "execution_count": null,
      "outputs": [
        {
          "output_type": "stream",
          "name": "stdout",
          "text": [
            "     rownames    id    site  age  risk    gender outcome    sod    pep  \\\n",
            "0           1  1001    1_UM   26   2.0  1_female   1_yes  1_yes   0_no   \n",
            "1           2  1002    1_UM   24   1.0    2_male    0_no   0_no  1_yes   \n",
            "2           3  1003    1_UM   57   1.0  1_female    0_no  1_yes   0_no   \n",
            "3           4  1004    1_UM   29   2.0  1_female   1_yes  1_yes   0_no   \n",
            "4           5  1005    1_UM   38   3.5  1_female    0_no  1_yes  1_yes   \n",
            "..        ...   ...     ...  ...   ...       ...     ...    ...    ...   \n",
            "597       598  3021    3_UK   39   2.0  1_female    0_no   0_no   0_no   \n",
            "598       599  3022    3_UK   50   2.5  1_female    0_no  1_yes   0_no   \n",
            "599       600  4001  4_Case   29   1.5  1_female    0_no   0_no   0_no   \n",
            "600       601  4002  4_Case   40   1.5  1_female    0_no  1_yes   0_no   \n",
            "601       602  4003  4_Case   73   2.0  1_female    0_no   0_no   0_no   \n",
            "\n",
            "    recpanc  ... sodsom bsphinc bstent  chole pbmal  train        status  \\\n",
            "0     1_yes  ...   0_no    0_no   0_no   0_no  0_no  1_yes  1_outpatient   \n",
            "1      0_no  ...   0_no   1_yes  1_yes  1_yes  0_no   0_no  1_outpatient   \n",
            "2      0_no  ...   0_no    0_no   0_no   0_no  0_no   0_no  1_outpatient   \n",
            "3      0_no  ...   0_no   1_yes   0_no  1_yes  0_no  1_yes  1_outpatient   \n",
            "4      0_no  ...  1_yes   1_yes   0_no   0_no  0_no  1_yes   0_inpatient   \n",
            "..      ...  ...    ...     ...    ...    ...   ...    ...           ...   \n",
            "597   1_yes  ...   0_no    0_no   0_no   0_no  0_no   0_no  1_outpatient   \n",
            "598   1_yes  ...  1_yes   1_yes   0_no   0_no  0_no   0_no  1_outpatient   \n",
            "599    0_no  ...   0_no   1_yes   0_no  1_yes  0_no  1_yes  1_outpatient   \n",
            "600    0_no  ...   0_no   1_yes   0_no   0_no  0_no  1_yes  1_outpatient   \n",
            "601    0_no  ...   0_no   1_yes  1_yes   0_no  0_no  1_yes  1_outpatient   \n",
            "\n",
            "         type              rx bleed  \n",
            "0    1_type 1  1_indomethacin   NaN  \n",
            "1    0_no SOD       0_placebo   NaN  \n",
            "2    2_type 2       0_placebo   NaN  \n",
            "3    1_type 1       0_placebo   NaN  \n",
            "4    1_type 1  1_indomethacin   NaN  \n",
            "..        ...             ...   ...  \n",
            "597  0_no SOD       0_placebo   NaN  \n",
            "598  2_type 2       0_placebo   NaN  \n",
            "599  1_type 1       0_placebo   NaN  \n",
            "600  1_type 1  1_indomethacin   NaN  \n",
            "601  0_no SOD  1_indomethacin   NaN  \n",
            "\n",
            "[602 rows x 34 columns]\n"
          ]
        }
      ]
    },
    {
      "cell_type": "code",
      "source": [
        "#Dropping columns with all na values in a column\n",
        "data_column_null_all=data_frame.dropna(how='all', axis=1)\n",
        "print(data_column_null_all)"
      ],
      "metadata": {
        "colab": {
          "base_uri": "https://localhost:8080/"
        },
        "id": "krZsZKqm8Gb5",
        "outputId": "15cc35ab-fd21-4751-ed2e-61e9cf91aafb"
      },
      "execution_count": null,
      "outputs": [
        {
          "output_type": "stream",
          "name": "stdout",
          "text": [
            "     rownames    id    site  age  risk    gender outcome    sod    pep  \\\n",
            "0           1  1001    1_UM   26   2.0  1_female   1_yes  1_yes   0_no   \n",
            "1           2  1002    1_UM   24   1.0    2_male    0_no   0_no  1_yes   \n",
            "2           3  1003    1_UM   57   1.0  1_female    0_no  1_yes   0_no   \n",
            "3           4  1004    1_UM   29   2.0  1_female   1_yes  1_yes   0_no   \n",
            "4           5  1005    1_UM   38   3.5  1_female    0_no  1_yes  1_yes   \n",
            "..        ...   ...     ...  ...   ...       ...     ...    ...    ...   \n",
            "597       598  3021    3_UK   39   2.0  1_female    0_no   0_no   0_no   \n",
            "598       599  3022    3_UK   50   2.5  1_female    0_no  1_yes   0_no   \n",
            "599       600  4001  4_Case   29   1.5  1_female    0_no   0_no   0_no   \n",
            "600       601  4002  4_Case   40   1.5  1_female    0_no  1_yes   0_no   \n",
            "601       602  4003  4_Case   73   2.0  1_female    0_no   0_no   0_no   \n",
            "\n",
            "    recpanc  ... sodsom bsphinc bstent  chole pbmal  train        status  \\\n",
            "0     1_yes  ...   0_no    0_no   0_no   0_no  0_no  1_yes  1_outpatient   \n",
            "1      0_no  ...   0_no   1_yes  1_yes  1_yes  0_no   0_no  1_outpatient   \n",
            "2      0_no  ...   0_no    0_no   0_no   0_no  0_no   0_no  1_outpatient   \n",
            "3      0_no  ...   0_no   1_yes   0_no  1_yes  0_no  1_yes  1_outpatient   \n",
            "4      0_no  ...  1_yes   1_yes   0_no   0_no  0_no  1_yes   0_inpatient   \n",
            "..      ...  ...    ...     ...    ...    ...   ...    ...           ...   \n",
            "597   1_yes  ...   0_no    0_no   0_no   0_no  0_no   0_no  1_outpatient   \n",
            "598   1_yes  ...  1_yes   1_yes   0_no   0_no  0_no   0_no  1_outpatient   \n",
            "599    0_no  ...   0_no   1_yes   0_no  1_yes  0_no  1_yes  1_outpatient   \n",
            "600    0_no  ...   0_no   1_yes   0_no   0_no  0_no  1_yes  1_outpatient   \n",
            "601    0_no  ...   0_no   1_yes  1_yes   0_no  0_no  1_yes  1_outpatient   \n",
            "\n",
            "         type              rx bleed  \n",
            "0    1_type 1  1_indomethacin   NaN  \n",
            "1    0_no SOD       0_placebo   NaN  \n",
            "2    2_type 2       0_placebo   NaN  \n",
            "3    1_type 1       0_placebo   NaN  \n",
            "4    1_type 1  1_indomethacin   NaN  \n",
            "..        ...             ...   ...  \n",
            "597  0_no SOD       0_placebo   NaN  \n",
            "598  2_type 2       0_placebo   NaN  \n",
            "599  1_type 1       0_placebo   NaN  \n",
            "600  1_type 1  1_indomethacin   NaN  \n",
            "601  0_no SOD  1_indomethacin   NaN  \n",
            "\n",
            "[602 rows x 34 columns]\n"
          ]
        }
      ]
    },
    {
      "cell_type": "code",
      "source": [
        "#Specifies the number of non nan values required to keep a column\n",
        "data_special=data_frame.dropna(thresh=5, axis=1)\n",
        "print(data_special)"
      ],
      "metadata": {
        "colab": {
          "base_uri": "https://localhost:8080/"
        },
        "id": "4EZ8IGN_-h89",
        "outputId": "ec34c7a4-2b3c-44f4-e840-2a5fdd00457d"
      },
      "execution_count": null,
      "outputs": [
        {
          "output_type": "stream",
          "name": "stdout",
          "text": [
            "     rownames    id    site  age  risk    gender outcome    sod    pep  \\\n",
            "0           1  1001    1_UM   26   2.0  1_female   1_yes  1_yes   0_no   \n",
            "1           2  1002    1_UM   24   1.0    2_male    0_no   0_no  1_yes   \n",
            "2           3  1003    1_UM   57   1.0  1_female    0_no  1_yes   0_no   \n",
            "3           4  1004    1_UM   29   2.0  1_female   1_yes  1_yes   0_no   \n",
            "4           5  1005    1_UM   38   3.5  1_female    0_no  1_yes  1_yes   \n",
            "..        ...   ...     ...  ...   ...       ...     ...    ...    ...   \n",
            "597       598  3021    3_UK   39   2.0  1_female    0_no   0_no   0_no   \n",
            "598       599  3022    3_UK   50   2.5  1_female    0_no  1_yes   0_no   \n",
            "599       600  4001  4_Case   29   1.5  1_female    0_no   0_no   0_no   \n",
            "600       601  4002  4_Case   40   1.5  1_female    0_no  1_yes   0_no   \n",
            "601       602  4003  4_Case   73   2.0  1_female    0_no   0_no   0_no   \n",
            "\n",
            "    recpanc  ... sodsom bsphinc bstent  chole pbmal  train        status  \\\n",
            "0     1_yes  ...   0_no    0_no   0_no   0_no  0_no  1_yes  1_outpatient   \n",
            "1      0_no  ...   0_no   1_yes  1_yes  1_yes  0_no   0_no  1_outpatient   \n",
            "2      0_no  ...   0_no    0_no   0_no   0_no  0_no   0_no  1_outpatient   \n",
            "3      0_no  ...   0_no   1_yes   0_no  1_yes  0_no  1_yes  1_outpatient   \n",
            "4      0_no  ...  1_yes   1_yes   0_no   0_no  0_no  1_yes   0_inpatient   \n",
            "..      ...  ...    ...     ...    ...    ...   ...    ...           ...   \n",
            "597   1_yes  ...   0_no    0_no   0_no   0_no  0_no   0_no  1_outpatient   \n",
            "598   1_yes  ...  1_yes   1_yes   0_no   0_no  0_no   0_no  1_outpatient   \n",
            "599    0_no  ...   0_no   1_yes   0_no  1_yes  0_no  1_yes  1_outpatient   \n",
            "600    0_no  ...   0_no   1_yes   0_no   0_no  0_no  1_yes  1_outpatient   \n",
            "601    0_no  ...   0_no   1_yes  1_yes   0_no  0_no  1_yes  1_outpatient   \n",
            "\n",
            "         type              rx bleed  \n",
            "0    1_type 1  1_indomethacin   NaN  \n",
            "1    0_no SOD       0_placebo   NaN  \n",
            "2    2_type 2       0_placebo   NaN  \n",
            "3    1_type 1       0_placebo   NaN  \n",
            "4    1_type 1  1_indomethacin   NaN  \n",
            "..        ...             ...   ...  \n",
            "597  0_no SOD       0_placebo   NaN  \n",
            "598  2_type 2       0_placebo   NaN  \n",
            "599  1_type 1       0_placebo   NaN  \n",
            "600  1_type 1  1_indomethacin   NaN  \n",
            "601  0_no SOD  1_indomethacin   NaN  \n",
            "\n",
            "[602 rows x 34 columns]\n"
          ]
        }
      ]
    },
    {
      "cell_type": "markdown",
      "source": [
        "5.Filling missing Values"
      ],
      "metadata": {
        "id": "jGsvIa7vBw56"
      }
    },
    {
      "cell_type": "code",
      "source": [
        "#Filling nan values with a specific value\n",
        "data_fill=data_frame.fillna(8)\n",
        "print(data_fill)"
      ],
      "metadata": {
        "colab": {
          "base_uri": "https://localhost:8080/"
        },
        "id": "OHLfd1SuB3Bx",
        "outputId": "33570371-b504-4e35-9d88-c7281ec9b885"
      },
      "execution_count": null,
      "outputs": [
        {
          "output_type": "stream",
          "name": "stdout",
          "text": [
            "     rownames    id    site  age  risk    gender outcome    sod    pep  \\\n",
            "0           1  1001    1_UM   26   2.0  1_female   1_yes  1_yes   0_no   \n",
            "1           2  1002    1_UM   24   1.0    2_male    0_no   0_no  1_yes   \n",
            "2           3  1003    1_UM   57   1.0  1_female    0_no  1_yes   0_no   \n",
            "3           4  1004    1_UM   29   2.0  1_female   1_yes  1_yes   0_no   \n",
            "4           5  1005    1_UM   38   3.5  1_female    0_no  1_yes  1_yes   \n",
            "..        ...   ...     ...  ...   ...       ...     ...    ...    ...   \n",
            "597       598  3021    3_UK   39   2.0  1_female    0_no   0_no   0_no   \n",
            "598       599  3022    3_UK   50   2.5  1_female    0_no  1_yes   0_no   \n",
            "599       600  4001  4_Case   29   1.5  1_female    0_no   0_no   0_no   \n",
            "600       601  4002  4_Case   40   1.5  1_female    0_no  1_yes   0_no   \n",
            "601       602  4003  4_Case   73   2.0  1_female    0_no   0_no   0_no   \n",
            "\n",
            "    recpanc  ... sodsom bsphinc bstent  chole pbmal  train        status  \\\n",
            "0     1_yes  ...   0_no    0_no   0_no   0_no  0_no  1_yes  1_outpatient   \n",
            "1      0_no  ...   0_no   1_yes  1_yes  1_yes  0_no   0_no  1_outpatient   \n",
            "2      0_no  ...   0_no    0_no   0_no   0_no  0_no   0_no  1_outpatient   \n",
            "3      0_no  ...   0_no   1_yes   0_no  1_yes  0_no  1_yes  1_outpatient   \n",
            "4      0_no  ...  1_yes   1_yes   0_no   0_no  0_no  1_yes   0_inpatient   \n",
            "..      ...  ...    ...     ...    ...    ...   ...    ...           ...   \n",
            "597   1_yes  ...   0_no    0_no   0_no   0_no  0_no   0_no  1_outpatient   \n",
            "598   1_yes  ...  1_yes   1_yes   0_no   0_no  0_no   0_no  1_outpatient   \n",
            "599    0_no  ...   0_no   1_yes   0_no  1_yes  0_no  1_yes  1_outpatient   \n",
            "600    0_no  ...   0_no   1_yes   0_no   0_no  0_no  1_yes  1_outpatient   \n",
            "601    0_no  ...   0_no   1_yes  1_yes   0_no  0_no  1_yes  1_outpatient   \n",
            "\n",
            "         type              rx bleed  \n",
            "0    1_type 1  1_indomethacin   8.0  \n",
            "1    0_no SOD       0_placebo   8.0  \n",
            "2    2_type 2       0_placebo   8.0  \n",
            "3    1_type 1       0_placebo   8.0  \n",
            "4    1_type 1  1_indomethacin   8.0  \n",
            "..        ...             ...   ...  \n",
            "597  0_no SOD       0_placebo   8.0  \n",
            "598  2_type 2       0_placebo   8.0  \n",
            "599  1_type 1       0_placebo   8.0  \n",
            "600  1_type 1  1_indomethacin   8.0  \n",
            "601  0_no SOD  1_indomethacin   8.0  \n",
            "\n",
            "[602 rows x 34 columns]\n"
          ]
        }
      ]
    },
    {
      "cell_type": "code",
      "source": [
        "#Forward fill\n",
        "data_2.loc[2, 'id'] = np.nan\n",
        "data_for_fill=data_2.id.fillna(method='ffill')\n",
        "print(data_for_fill)"
      ],
      "metadata": {
        "colab": {
          "base_uri": "https://localhost:8080/"
        },
        "id": "TkOvBa_OCqgT",
        "outputId": "74d30b6f-3680-48a9-80bf-41b60c03edf6"
      },
      "execution_count": null,
      "outputs": [
        {
          "output_type": "stream",
          "name": "stdout",
          "text": [
            "0         NaN\n",
            "1      1002.0\n",
            "2      1002.0\n",
            "3      1004.0\n",
            "4      1005.0\n",
            "        ...  \n",
            "597    3021.0\n",
            "598    3022.0\n",
            "599    4001.0\n",
            "600    4002.0\n",
            "601    4003.0\n",
            "Name: id, Length: 602, dtype: float64\n"
          ]
        },
        {
          "output_type": "stream",
          "name": "stderr",
          "text": [
            "<ipython-input-46-40152baefe3c>:3: FutureWarning: Series.fillna with 'method' is deprecated and will raise in a future version. Use obj.ffill() or obj.bfill() instead.\n",
            "  data_for_fill=data_2.id.fillna(method='ffill')\n"
          ]
        }
      ]
    },
    {
      "cell_type": "code",
      "source": [
        "#Backward filling\n",
        "data_bac_fill=data_2.id.fillna(method='bfill')\n",
        "print(data_bac_fill)"
      ],
      "metadata": {
        "colab": {
          "base_uri": "https://localhost:8080/"
        },
        "id": "3TDfMZwtFSD6",
        "outputId": "8aba0165-b8a4-4a72-e831-8db9b024d0a4"
      },
      "execution_count": null,
      "outputs": [
        {
          "output_type": "stream",
          "name": "stdout",
          "text": [
            "0      1002.0\n",
            "1      1002.0\n",
            "2      1004.0\n",
            "3      1004.0\n",
            "4      1005.0\n",
            "        ...  \n",
            "597    3021.0\n",
            "598    3022.0\n",
            "599    4001.0\n",
            "600    4002.0\n",
            "601    4003.0\n",
            "Name: id, Length: 602, dtype: float64\n"
          ]
        },
        {
          "output_type": "stream",
          "name": "stderr",
          "text": [
            "<ipython-input-48-8efdd99be8bb>:2: FutureWarning: Series.fillna with 'method' is deprecated and will raise in a future version. Use obj.ffill() or obj.bfill() instead.\n",
            "  data_bac_fill=data_2.id.fillna(method='bfill')\n"
          ]
        }
      ]
    },
    {
      "cell_type": "markdown",
      "source": [
        "6.Basic operations of handling data set"
      ],
      "metadata": {
        "id": "5963o4OZFt1V"
      }
    },
    {
      "cell_type": "code",
      "source": [
        "#Modifying columns\n",
        "data_1['unique'] = data_1['age'] + data_1['id']\n",
        "print(data_1)"
      ],
      "metadata": {
        "colab": {
          "base_uri": "https://localhost:8080/"
        },
        "id": "a1M99wNhFvWS",
        "outputId": "0fe64b35-8b0d-4306-948a-9659fdfa08d1"
      },
      "execution_count": null,
      "outputs": [
        {
          "output_type": "stream",
          "name": "stdout",
          "text": [
            "       id  age  unique\n",
            "0    1001   26    1027\n",
            "1    1002   24    1026\n",
            "2    1003   57    1060\n",
            "3    1004   29    1033\n",
            "4    1005   38    1043\n",
            "..    ...  ...     ...\n",
            "597  3021   39    3060\n",
            "598  3022   50    3072\n",
            "599  4001   29    4030\n",
            "600  4002   40    4042\n",
            "601  4003   73    4076\n",
            "\n",
            "[602 rows x 3 columns]\n"
          ]
        },
        {
          "output_type": "stream",
          "name": "stderr",
          "text": [
            "<ipython-input-49-6f291a08dc02>:2: SettingWithCopyWarning: \n",
            "A value is trying to be set on a copy of a slice from a DataFrame.\n",
            "Try using .loc[row_indexer,col_indexer] = value instead\n",
            "\n",
            "See the caveats in the documentation: https://pandas.pydata.org/pandas-docs/stable/user_guide/indexing.html#returning-a-view-versus-a-copy\n",
            "  data_1['unique'] = data_1['age'] + data_1['id']\n"
          ]
        }
      ]
    },
    {
      "cell_type": "code",
      "source": [
        "#Selecting rows\n",
        "col=data_frame['id']\n",
        "print(col)"
      ],
      "metadata": {
        "colab": {
          "base_uri": "https://localhost:8080/"
        },
        "id": "Hw4yEgVzHGmK",
        "outputId": "e2b3a7e4-ad42-4d50-8b0d-907e027bb1a1"
      },
      "execution_count": null,
      "outputs": [
        {
          "output_type": "stream",
          "name": "stdout",
          "text": [
            "0      1001\n",
            "1      1002\n",
            "2      1003\n",
            "3      1004\n",
            "4      1005\n",
            "       ... \n",
            "597    3021\n",
            "598    3022\n",
            "599    4001\n",
            "600    4002\n",
            "601    4003\n",
            "Name: id, Length: 602, dtype: int64\n"
          ]
        }
      ]
    },
    {
      "cell_type": "code",
      "source": [
        "#Selecting rows based on a condition\n",
        "data_condition = data_1[data_1['id'] > 1003]\n",
        "print(data_condition)"
      ],
      "metadata": {
        "colab": {
          "base_uri": "https://localhost:8080/"
        },
        "id": "zQ9IYJxsHQAp",
        "outputId": "63612161-6d96-427b-d2cb-1e1e9140fc70"
      },
      "execution_count": null,
      "outputs": [
        {
          "output_type": "stream",
          "name": "stdout",
          "text": [
            "       id  age  unique\n",
            "3    1004   29    1033\n",
            "4    1005   38    1043\n",
            "5    1006   59    1065\n",
            "6    1007   60    1067\n",
            "7    1008   29    1037\n",
            "..    ...  ...     ...\n",
            "597  3021   39    3060\n",
            "598  3022   50    3072\n",
            "599  4001   29    4030\n",
            "600  4002   40    4042\n",
            "601  4003   73    4076\n",
            "\n",
            "[599 rows x 3 columns]\n"
          ]
        }
      ]
    },
    {
      "cell_type": "code",
      "source": [
        "#Multiply two rows and store in a third row\n",
        "data_1['multiply'] = data_1['id']*data_1['age']\n",
        "print(data_1)"
      ],
      "metadata": {
        "colab": {
          "base_uri": "https://localhost:8080/"
        },
        "id": "xxkzJkKUJDSA",
        "outputId": "b521444b-e8f0-4896-e0fa-ffdc279ccba8"
      },
      "execution_count": null,
      "outputs": [
        {
          "output_type": "stream",
          "name": "stdout",
          "text": [
            "       id  age  unique  multiply\n",
            "601  4003   73    4076    292219\n",
            "600  4002   40    4042    160080\n",
            "599  4001   29    4030    116029\n",
            "598  3022   50    3072    151100\n",
            "597  3021   39    3060    117819\n",
            "..    ...  ...     ...       ...\n",
            "4    1005   38    1043     38190\n",
            "3    1004   29    1033     29116\n",
            "2    1003   57    1060     57171\n",
            "1    1002   24    1026     24048\n",
            "0    1001   26    1027     26026\n",
            "\n",
            "[602 rows x 4 columns]\n"
          ]
        },
        {
          "output_type": "stream",
          "name": "stderr",
          "text": [
            "<ipython-input-62-21e1c95df777>:2: SettingWithCopyWarning: \n",
            "A value is trying to be set on a copy of a slice from a DataFrame.\n",
            "Try using .loc[row_indexer,col_indexer] = value instead\n",
            "\n",
            "See the caveats in the documentation: https://pandas.pydata.org/pandas-docs/stable/user_guide/indexing.html#returning-a-view-versus-a-copy\n",
            "  data_1['multiply'] = data_1['id']*data_1['age']\n"
          ]
        }
      ]
    },
    {
      "cell_type": "code",
      "source": [
        "#Calculating central tendencies\n",
        "\n",
        "##Mean\n",
        "mean_value= data_1['age'].mean()\n",
        "print(\"Mean:\", mean_value)\n",
        "\n",
        "##Median\n",
        "median_value = data_1['age'].median()\n",
        "print(\"Median:\", median_value)\n",
        "\n",
        "##Mode\n",
        "mode_value = data_1['age'].mode()[0]\n",
        "print(\"Mode:\", mode_value)"
      ],
      "metadata": {
        "colab": {
          "base_uri": "https://localhost:8080/"
        },
        "id": "pPykcD4WJ0CY",
        "outputId": "845d963f-ee31-4e7d-b6bd-6d25c4f2a3ee"
      },
      "execution_count": null,
      "outputs": [
        {
          "output_type": "stream",
          "name": "stdout",
          "text": [
            "Mean: 45.269102990033225\n",
            "Median: 45.0\n",
            "Mode: 48\n"
          ]
        }
      ]
    },
    {
      "cell_type": "markdown",
      "source": [
        "# **Discretization and binning**"
      ],
      "metadata": {
        "id": "JmyrzxqdLyZP"
      }
    },
    {
      "cell_type": "code",
      "source": [
        "age = [6, 7, 7, 8, 6, 7, 12, 10, 15, 13, 12, 10]\n",
        "bins = [5, 8, 11, 14, 18]\n",
        "category = pd.cut(age, bins)\n",
        "print(category)\n",
        ""
      ],
      "metadata": {
        "id": "edgIAOdvL3yd",
        "colab": {
          "base_uri": "https://localhost:8080/"
        },
        "outputId": "4ce6a7f4-555c-41c3-a3d6-52a4e796e954"
      },
      "execution_count": 64,
      "outputs": [
        {
          "output_type": "stream",
          "name": "stdout",
          "text": [
            "[(5, 8], (5, 8], (5, 8], (5, 8], (5, 8], ..., (8, 11], (14, 18], (11, 14], (11, 14], (8, 11]]\n",
            "Length: 12\n",
            "Categories (4, interval[int64, right]): [(5, 8] < (8, 11] < (11, 14] < (14, 18]]\n"
          ]
        }
      ]
    },
    {
      "cell_type": "code",
      "source": [
        "#Counting the values in each bin\n",
        "category=pd.value_counts(category)\n",
        "print(category)"
      ],
      "metadata": {
        "colab": {
          "base_uri": "https://localhost:8080/"
        },
        "id": "s_iB2yG1TPt4",
        "outputId": "01e45211-5d8d-46ad-d521-2add21cefdb2"
      },
      "execution_count": 65,
      "outputs": [
        {
          "output_type": "stream",
          "name": "stdout",
          "text": [
            "(5, 8]      6\n",
            "(11, 14]    3\n",
            "(8, 11]     2\n",
            "(14, 18]    1\n",
            "Name: count, dtype: int64\n"
          ]
        },
        {
          "output_type": "stream",
          "name": "stderr",
          "text": [
            "<ipython-input-65-04aff8bfdd39>:2: FutureWarning: pandas.value_counts is deprecated and will be removed in a future version. Use pd.Series(obj).value_counts() instead.\n",
            "  category=pd.value_counts(category)\n"
          ]
        }
      ]
    },
    {
      "cell_type": "code",
      "source": [
        "#It will compute equal-length bins based on the minimum and maximum values in the data\n",
        "category3=pd.cut(np.random.rand(40), 5, precision=2)\n",
        "print(category3)"
      ],
      "metadata": {
        "colab": {
          "base_uri": "https://localhost:8080/"
        },
        "id": "PBUo5YgoWor4",
        "outputId": "ac3350a2-96b0-413f-d36e-0a9009d771c7"
      },
      "execution_count": 67,
      "outputs": [
        {
          "output_type": "stream",
          "name": "stdout",
          "text": [
            "[(0.2, 0.4], (0.4, 0.6], (0.79, 0.99], (0.008, 0.2], (0.008, 0.2], ..., (0.2, 0.4], (0.2, 0.4], (0.6, 0.79], (0.008, 0.2], (0.79, 0.99]]\n",
            "Length: 40\n",
            "Categories (5, interval[float64, right]): [(0.008, 0.2] < (0.2, 0.4] < (0.4, 0.6] < (0.6, 0.79] <\n",
            "                                           (0.79, 0.99]]\n"
          ]
        }
      ]
    },
    {
      "cell_type": "code",
      "source": [
        "#qcut method  forms the bins based on sample quantiles\n",
        "randomNumbers = np.random.rand(2000)\n",
        "category4 = pd.qcut(randomNumbers, 4)\n",
        "print(category4)"
      ],
      "metadata": {
        "colab": {
          "base_uri": "https://localhost:8080/"
        },
        "id": "HzAqOc6LWufB",
        "outputId": "7b79ac90-a037-446a-c76b-19e5dc36fe2e"
      },
      "execution_count": 69,
      "outputs": [
        {
          "output_type": "stream",
          "name": "stdout",
          "text": [
            "[(0.766, 1.0], (0.509, 0.766], (0.0003600000000000001, 0.249], (0.0003600000000000001, 0.249], (0.0003600000000000001, 0.249], ..., (0.249, 0.509], (0.766, 1.0], (0.249, 0.509], (0.766, 1.0], (0.0003600000000000001, 0.249]]\n",
            "Length: 2000\n",
            "Categories (4, interval[float64, right]): [(0.0003600000000000001, 0.249] < (0.249, 0.509] < (0.509, 0.766] <\n",
            "                                           (0.766, 1.0]]\n"
          ]
        }
      ]
    },
    {
      "cell_type": "markdown",
      "source": [
        "# **Univariate analysis**"
      ],
      "metadata": {
        "id": "N_3B2Ly2YFTT"
      }
    },
    {
      "cell_type": "code",
      "source": [
        "import pandas as pd\n",
        "\n",
        "# Sample data\n",
        "age = [6, 7, 7, 8, 6, 7, 12, 10, 15, 13, 12, 10]\n",
        "\n",
        "# Create a pandas DataFrame\n",
        "df = pd.DataFrame(age, columns=['Age'])\n",
        "\n",
        "# Statistical summary\n",
        "summary = df.describe()\n",
        "print(\"Statistical Summary:\")\n",
        "print(summary)\n",
        "\n",
        "# Additional statistics\n",
        "mean = df['Age'].mean()\n",
        "median = df['Age'].median()\n",
        "mode = df['Age'].mode()[0]\n",
        "std_dev = df['Age'].std()\n",
        "variance = df['Age'].var()\n",
        "range_val = df['Age'].max() - df['Age'].min()\n",
        "\n",
        "print(f\"\\nMean: {mean}\")\n",
        "print(f\"Median: {median}\")\n",
        "print(f\"Mode: {mode}\")\n",
        "print(f\"Standard Deviation: {std_dev}\")\n",
        "print(f\"Variance: {variance}\")\n",
        "print(f\"Range: {range_val}\")\n"
      ],
      "metadata": {
        "colab": {
          "base_uri": "https://localhost:8080/"
        },
        "id": "VEiz8VFhYHhn",
        "outputId": "cfe5c4d9-baa6-4622-8526-d24e5ee19ce3"
      },
      "execution_count": 70,
      "outputs": [
        {
          "output_type": "stream",
          "name": "stdout",
          "text": [
            "Statistical Summary:\n",
            "             Age\n",
            "count  12.000000\n",
            "mean    9.416667\n",
            "std     3.028901\n",
            "min     6.000000\n",
            "25%     7.000000\n",
            "50%     9.000000\n",
            "75%    12.000000\n",
            "max    15.000000\n",
            "\n",
            "Mean: 9.416666666666666\n",
            "Median: 9.0\n",
            "Mode: 7\n",
            "Standard Deviation: 3.028901190901153\n",
            "Variance: 9.174242424242424\n",
            "Range: 9\n"
          ]
        }
      ]
    },
    {
      "cell_type": "code",
      "source": [
        "# Frequency distribution (counts of each age value)\n",
        "frequency = df['Age'].value_counts()\n",
        "print(\"\\nFrequency Distribution:\")\n",
        "print(frequency)\n"
      ],
      "metadata": {
        "colab": {
          "base_uri": "https://localhost:8080/"
        },
        "id": "X7zHgzYtckYW",
        "outputId": "4476a8c6-b95c-44ed-a5ab-70c23fffc7b2"
      },
      "execution_count": 71,
      "outputs": [
        {
          "output_type": "stream",
          "name": "stdout",
          "text": [
            "\n",
            "Frequency Distribution:\n",
            "Age\n",
            "7     3\n",
            "6     2\n",
            "12    2\n",
            "10    2\n",
            "8     1\n",
            "15    1\n",
            "13    1\n",
            "Name: count, dtype: int64\n"
          ]
        }
      ]
    },
    {
      "cell_type": "code",
      "source": [
        "import matplotlib.pyplot as plt\n",
        "\n",
        "# Histogram to visualize the age distribution\n",
        "plt.hist(df['Age'], bins=[5, 8, 11, 14, 18], edgecolor='black')\n",
        "plt.title('Age Distribution')\n",
        "plt.xlabel('Age')\n",
        "plt.ylabel('Frequency')\n",
        "plt.show()\n"
      ],
      "metadata": {
        "colab": {
          "base_uri": "https://localhost:8080/",
          "height": 472
        },
        "id": "X8eUXpkpcoeS",
        "outputId": "5b5480b1-47b1-489e-901f-876c5798007e"
      },
      "execution_count": 72,
      "outputs": [
        {
          "output_type": "display_data",
          "data": {
            "text/plain": [
              "<Figure size 640x480 with 1 Axes>"
            ],
            "image/png": "[encoded data removed]"
          },
          "metadata": {}
        }
      ]
    },
    {
      "cell_type": "code",
      "source": [
        "# Box plot to visualize the spread and outliers of the data\n",
        "plt.boxplot(df['Age'])\n",
        "plt.title('Box Plot of Age')\n",
        "plt.ylabel('Age')\n",
        "plt.show()\n",
        "\n"
      ],
      "metadata": {
        "colab": {
          "base_uri": "https://localhost:8080/",
          "height": 452
        },
        "id": "ByCxWwjUctkw",
        "outputId": "f058bec1-cc65-43df-a15d-2489c6ee7d17"
      },
      "execution_count": 73,
      "outputs": [
        {
          "output_type": "display_data",
          "data": {
            "text/plain": [
              "<Figure size 640x480 with 1 Axes>"
            ],
            "image/png": "[encoded data removed]"
          },
          "metadata": {}
        }
      ]
    },
    {
      "cell_type": "code",
      "source": [
        "# Bar plot to visualize frequency of each age\n",
        "frequency.plot(kind='bar', color='skyblue')\n",
        "plt.title('Frequency of Ages')\n",
        "plt.xlabel('Age')\n",
        "plt.ylabel('Frequency')\n",
        "plt.show()\n",
        "\n"
      ],
      "metadata": {
        "colab": {
          "base_uri": "https://localhost:8080/",
          "height": 475
        },
        "id": "IOdBYKGkcwSO",
        "outputId": "4677a46f-dd65-4edd-9bcd-bd8ddbed1542"
      },
      "execution_count": 74,
      "outputs": [
        {
          "output_type": "display_data",
          "data": {
            "text/plain": [
              "<Figure size 640x480 with 1 Axes>"
            ],
            "image/png": "[encoded data removed]"
          },
          "metadata": {}
        }
      ]
    },
    {
      "cell_type": "code",
      "source": [
        "# Pie chart to visualize proportion of each age\n",
        "plt.pie(frequency, labels=frequency.index, autopct='%1.1f%%', startangle=140)\n",
        "plt.title('Proportion of Ages')\n",
        "plt.show()\n"
      ],
      "metadata": {
        "colab": {
          "base_uri": "https://localhost:8080/",
          "height": 428
        },
        "id": "yBY39HxxczI2",
        "outputId": "1a28a1ef-19a0-4d53-c384-5683b5a58bfe"
      },
      "execution_count": 75,
      "outputs": [
        {
          "output_type": "display_data",
          "data": {
            "text/plain": [
              "<Figure size 640x480 with 1 Axes>"
            ],
            "image/png": "[encoded data removed]"
          },
          "metadata": {}
        }
      ]
    },
    {
      "cell_type": "code",
      "source": [
        "from scipy.stats import skew, kurtosis\n",
        "\n",
        "# Calculate skewness and kurtosis\n",
        "age_skewness = skew(df['Age'])\n",
        "age_kurtosis = kurtosis(df['Age'])\n",
        "\n",
        "print(f\"\\nSkewness: {age_skewness}\")\n",
        "print(f\"Kurtosis: {age_kurtosis}\")\n"
      ],
      "metadata": {
        "colab": {
          "base_uri": "https://localhost:8080/"
        },
        "id": "AtEEyTQLc2fT",
        "outputId": "efb52ca3-308e-401c-e422-a94a9195b902"
      },
      "execution_count": 76,
      "outputs": [
        {
          "output_type": "stream",
          "name": "stdout",
          "text": [
            "\n",
            "Skewness: 0.444163869757001\n",
            "Kurtosis: -1.1089796873007611\n"
          ]
        }
      ]
    },
    {
      "cell_type": "code",
      "source": [
        "# Quantiles (e.g., 25th, 50th, 75th percentiles)\n",
        "quantiles = df['Age'].quantile([0.25, 0.5, 0.75])\n",
        "print(\"\\nQuantiles:\")\n",
        "print(quantiles)\n"
      ],
      "metadata": {
        "colab": {
          "base_uri": "https://localhost:8080/"
        },
        "id": "bKBT9aKHc7A2",
        "outputId": "35736cb7-60e6-41a2-e609-9309ad9912f5"
      },
      "execution_count": 77,
      "outputs": [
        {
          "output_type": "stream",
          "name": "stdout",
          "text": [
            "\n",
            "Quantiles:\n",
            "0.25     7.0\n",
            "0.50     9.0\n",
            "0.75    12.0\n",
            "Name: Age, dtype: float64\n"
          ]
        }
      ]
    },
    {
      "cell_type": "code",
      "source": [
        "# Interquartile Range (IQR)\n",
        "Q1 = df['Age'].quantile(0.25)\n",
        "Q3 = df['Age'].quantile(0.75)\n",
        "IQR = Q3 - Q1\n",
        "\n",
        "print(f\"\\nInterquartile Range (IQR): {IQR}\")\n"
      ],
      "metadata": {
        "colab": {
          "base_uri": "https://localhost:8080/"
        },
        "id": "w_H-zGkhc_WM",
        "outputId": "fda7a7d3-6589-4881-c565-5dcb5acc9eb7"
      },
      "execution_count": 78,
      "outputs": [
        {
          "output_type": "stream",
          "name": "stdout",
          "text": [
            "\n",
            "Interquartile Range (IQR): 5.0\n"
          ]
        }
      ]
    },
    {
      "cell_type": "code",
      "source": [
        "# Outlier detection using IQR\n",
        "lower_bound = Q1 - 1.5 * IQR\n",
        "upper_bound = Q3 + 1.5 * IQR\n",
        "\n",
        "outliers = df[(df['Age'] < lower_bound) | (df['Age'] > upper_bound)]\n",
        "print(\"\\nOutliers:\")\n",
        "print(outliers if not outliers.empty else \"No outliers detected.\")\n"
      ],
      "metadata": {
        "colab": {
          "base_uri": "https://localhost:8080/"
        },
        "id": "oRbhZxV9dDlx",
        "outputId": "018e7eab-e97a-4ba7-a406-8aa1f6e77a42"
      },
      "execution_count": 79,
      "outputs": [
        {
          "output_type": "stream",
          "name": "stdout",
          "text": [
            "\n",
            "Outliers:\n",
            "No outliers detected.\n"
          ]
        }
      ]
    },
    {
      "cell_type": "code",
      "source": [
        "# Cumulative frequency distribution\n",
        "df['Cumulative Frequency'] = df['Age'].rank(method='max').astype(int)\n",
        "print(\"\\nCumulative Frequency Distribution:\")\n",
        "print(df)\n"
      ],
      "metadata": {
        "colab": {
          "base_uri": "https://localhost:8080/"
        },
        "id": "bXjP2YOodGGM",
        "outputId": "a826ebed-c7dd-4616-fca0-e70681617e8c"
      },
      "execution_count": 80,
      "outputs": [
        {
          "output_type": "stream",
          "name": "stdout",
          "text": [
            "\n",
            "Cumulative Frequency Distribution:\n",
            "    Age  Cumulative Frequency\n",
            "0     6                     2\n",
            "1     7                     5\n",
            "2     7                     5\n",
            "3     8                     6\n",
            "4     6                     2\n",
            "5     7                     5\n",
            "6    12                    10\n",
            "7    10                     8\n",
            "8    15                    12\n",
            "9    13                    11\n",
            "10   12                    10\n",
            "11   10                     8\n"
          ]
        }
      ]
    },
    {
      "cell_type": "code",
      "source": [
        "import seaborn as sns\n",
        "\n",
        "# Density plot to visualize the distribution of age\n",
        "sns.kdeplot(df['Age'], shade=True)\n",
        "plt.title('Density Plot of Age')\n",
        "plt.xlabel('Age')\n",
        "plt.ylabel('Density')\n",
        "plt.show()\n"
      ],
      "metadata": {
        "colab": {
          "base_uri": "https://localhost:8080/",
          "height": 576
        },
        "id": "5efjuY1DdIsX",
        "outputId": "60878d03-0510-46ad-d8be-dd728b4be2d9"
      },
      "execution_count": 81,
      "outputs": [
        {
          "output_type": "stream",
          "name": "stderr",
          "text": [
            "<ipython-input-81-dac534459172>:4: FutureWarning: \n",
            "\n",
            "`shade` is now deprecated in favor of `fill`; setting `fill=True`.\n",
            "This will become an error in seaborn v0.14.0; please update your code.\n",
            "\n",
            "  sns.kdeplot(df['Age'], shade=True)\n"
          ]
        },
        {
          "output_type": "display_data",
          "data": {
            "text/plain": [
              "<Figure size 640x480 with 1 Axes>"
            ],
            "image/png": "[encoded data removed]"
          },
          "metadata": {}
        }
      ]
    },
    {
      "cell_type": "markdown",
      "source": [
        "# **Bivariate Analysis**"
      ],
      "metadata": {
        "id": "kjJz1HWYer8I"
      }
    },
    {
      "cell_type": "code",
      "source": [
        "import pandas as pd\n",
        "\n",
        "# Sample data for bivariate analysis\n",
        "age = [6, 7, 7, 8, 6, 7, 12, 10, 15, 13, 12, 10]\n",
        "height = [120, 122, 125, 127, 121, 123, 137, 131, 161, 145, 141, 132]\n",
        "\n",
        "# Create a DataFrame\n",
        "df = pd.DataFrame({'Age': age, 'Height': height})\n",
        "\n",
        "# Covariance\n",
        "covariance = df.cov()\n",
        "print(\"Covariance Matrix:\")\n",
        "print(covariance)\n",
        "\n",
        "# Correlation (Pearson's correlation by default)\n",
        "correlation = df.corr()\n",
        "print(\"\\nCorrelation Matrix:\")\n",
        "print(correlation)\n"
      ],
      "metadata": {
        "colab": {
          "base_uri": "https://localhost:8080/"
        },
        "id": "AR2ki2_Gex6z",
        "outputId": "dce685fd-0530-4a2f-8aad-fa8b29a9b51c"
      },
      "execution_count": 82,
      "outputs": [
        {
          "output_type": "stream",
          "name": "stdout",
          "text": [
            "Covariance Matrix:\n",
            "              Age      Height\n",
            "Age      9.174242   35.689394\n",
            "Height  35.689394  148.810606\n",
            "\n",
            "Correlation Matrix:\n",
            "             Age    Height\n",
            "Age     1.000000  0.965911\n",
            "Height  0.965911  1.000000\n"
          ]
        }
      ]
    },
    {
      "cell_type": "code",
      "source": [
        "import matplotlib.pyplot as plt\n",
        "\n",
        "# Scatter plot to visualize the relationship between Age and Height\n",
        "plt.scatter(df['Age'], df['Height'], color='blue')\n",
        "plt.title('Age vs Height')\n",
        "plt.xlabel('Age')\n",
        "plt.ylabel('Height')\n",
        "plt.show()\n"
      ],
      "metadata": {
        "colab": {
          "base_uri": "https://localhost:8080/",
          "height": 472
        },
        "id": "sbVtwutte89n",
        "outputId": "a9a7168a-e5ba-44ca-de60-344b1db26bc6"
      },
      "execution_count": 83,
      "outputs": [
        {
          "output_type": "display_data",
          "data": {
            "text/plain": [
              "<Figure size 640x480 with 1 Axes>"
            ],
            "image/png": "[encoded data removed]"
          },
          "metadata": {}
        }
      ]
    },
    {
      "cell_type": "code",
      "source": [
        "# Line plot to see the trend between Age and Height\n",
        "plt.plot(df['Age'], df['Height'], marker='o', linestyle='-', color='green')\n",
        "plt.title('Age vs Height (Line Plot)')\n",
        "plt.xlabel('Age')\n",
        "plt.ylabel('Height')\n",
        "plt.show()\n"
      ],
      "metadata": {
        "colab": {
          "base_uri": "https://localhost:8080/",
          "height": 472
        },
        "id": "WznSyf46e_OP",
        "outputId": "4b1adbb7-6d2a-4ea9-d454-f3faf9071b43"
      },
      "execution_count": 84,
      "outputs": [
        {
          "output_type": "display_data",
          "data": {
            "text/plain": [
              "<Figure size 640x480 with 1 Axes>"
            ],
            "image/png": "[encoded data removed]"
          },
          "metadata": {}
        }
      ]
    },
    {
      "cell_type": "code",
      "source": [
        "# Box plot of height grouped by age\n",
        "plt.boxplot([df[df['Age'] == i]['Height'] for i in sorted(df['Age'].unique())], labels=sorted(df['Age'].unique()))\n",
        "plt.title('Box Plot of Height by Age')\n",
        "plt.xlabel('Age')\n",
        "plt.ylabel('Height')\n",
        "plt.show()\n"
      ],
      "metadata": {
        "colab": {
          "base_uri": "https://localhost:8080/",
          "height": 472
        },
        "id": "wFQStnrlfB06",
        "outputId": "341e5d7c-221e-4601-e913-042b983a9d5c"
      },
      "execution_count": 85,
      "outputs": [
        {
          "output_type": "display_data",
          "data": {
            "text/plain": [
              "<Figure size 640x480 with 1 Axes>"
            ],
            "image/png": "[encoded data removed]"
          },
          "metadata": {}
        }
      ]
    },
    {
      "cell_type": "code",
      "source": [
        "import seaborn as sns\n",
        "\n",
        "# Heatmap to visualize the correlation matrix\n",
        "sns.heatmap(correlation, annot=True, cmap='coolwarm')\n",
        "plt.title('Correlation Heatmap')\n",
        "plt.show()\n"
      ],
      "metadata": {
        "colab": {
          "base_uri": "https://localhost:8080/",
          "height": 452
        },
        "id": "3LYJ347MfEDc",
        "outputId": "c17d2b72-e2eb-4613-fe50-359791a68152"
      },
      "execution_count": 86,
      "outputs": [
        {
          "output_type": "display_data",
          "data": {
            "text/plain": [
              "<Figure size 640x480 with 2 Axes>"
            ],
            "image/png": "[encoded data removed]"
          },
          "metadata": {}
        }
      ]
    },
    {
      "cell_type": "code",
      "source": [
        "import numpy as np\n",
        "\n",
        "# Scatter plot with a regression line\n",
        "sns.regplot(x='Age', y='Height', data=df, scatter_kws={\"color\": \"blue\"}, line_kws={\"color\": \"red\"})\n",
        "plt.title('Age vs Height with Regression Line')\n",
        "plt.xlabel('Age')\n",
        "plt.ylabel('Height')\n",
        "plt.show()\n"
      ],
      "metadata": {
        "colab": {
          "base_uri": "https://localhost:8080/",
          "height": 472
        },
        "id": "egW2OGXFfGrq",
        "outputId": "bfbe63f9-6c1e-424e-8f1f-abb91eaab722"
      },
      "execution_count": 87,
      "outputs": [
        {
          "output_type": "display_data",
          "data": {
            "text/plain": [
              "<Figure size 640x480 with 1 Axes>"
            ],
            "image/png": "[encoded data removed]"
          },
          "metadata": {}
        }
      ]
    },
    {
      "cell_type": "code",
      "source": [
        "# Joint plot to visualize both the scatter plot and distributions\n",
        "sns.jointplot(x='Age', y='Height', data=df, kind='scatter', color='purple')\n",
        "plt.title('Joint Plot of Age and Height', loc='left')\n",
        "plt.show()\n"
      ],
      "metadata": {
        "colab": {
          "base_uri": "https://localhost:8080/",
          "height": 607
        },
        "id": "zj3sTZUlfJmj",
        "outputId": "bf608f7c-d5ed-482f-eaca-5ddf3081863c"
      },
      "execution_count": 88,
      "outputs": [
        {
          "output_type": "display_data",
          "data": {
            "text/plain": [
              "<Figure size 600x600 with 3 Axes>"
            ],
            "image/png": "[encoded data removed]"
          },
          "metadata": {}
        }
      ]
    },
    {
      "cell_type": "code",
      "source": [
        "# Add an additional variable for demonstration\n",
        "df['Weight'] = [20, 22, 24, 26, 21, 23, 35, 30, 45, 40, 38, 32]\n",
        "\n",
        "# Pair plot to visualize relationships between all variables\n",
        "sns.pairplot(df)\n",
        "plt.suptitle('Pair Plot of Age, Height, and Weight', y=1.02)\n",
        "plt.show()\n"
      ],
      "metadata": {
        "colab": {
          "base_uri": "https://localhost:8080/",
          "height": 787
        },
        "id": "6IE8pcI0fM9A",
        "outputId": "f9b1f371-2529-4760-8c9e-f62c3fffdedf"
      },
      "execution_count": 89,
      "outputs": [
        {
          "output_type": "display_data",
          "data": {
            "text/plain": [
              "<Figure size 750x750 with 12 Axes>"
            ],
            "image/png": "[encoded data removed]"
          },
          "metadata": {}
        }
      ]
    },
    {
      "cell_type": "code",
      "source": [
        "# Bar plot showing average height for each age group\n",
        "age_mean_height = df.groupby('Age')['Height'].mean()\n",
        "\n",
        "age_mean_height.plot(kind='bar', color='orange')\n",
        "plt.title('Average Height by Age')\n",
        "plt.xlabel('Age')\n",
        "plt.ylabel('Average Height')\n",
        "plt.show()\n"
      ],
      "metadata": {
        "colab": {
          "base_uri": "https://localhost:8080/",
          "height": 475
        },
        "id": "rB0tipe8fQXr",
        "outputId": "0be4f373-7b9d-434d-dbc6-5e995a44b8f1"
      },
      "execution_count": 90,
      "outputs": [
        {
          "output_type": "display_data",
          "data": {
            "text/plain": [
              "<Figure size 640x480 with 1 Axes>"
            ],
            "image/png": "[encoded data removed]"
          },
          "metadata": {}
        }
      ]
    },
    {
      "cell_type": "code",
      "source": [
        "# Kernel Density Estimate (KDE) plot for age and height\n",
        "sns.kdeplot(x='Age', y='Height', data=df, cmap='Blues', fill=True)\n",
        "plt.title('Bivariate Density Plot of Age and Height')\n",
        "plt.show()\n"
      ],
      "metadata": {
        "colab": {
          "base_uri": "https://localhost:8080/",
          "height": 472
        },
        "id": "XkIWDvJBfU10",
        "outputId": "5e3a0021-79dc-4c4f-d03a-3d2c24e97728"
      },
      "execution_count": 91,
      "outputs": [
        {
          "output_type": "display_data",
          "data": {
            "text/plain": [
              "<Figure size 640x480 with 1 Axes>"
            ],
            "image/png": "[encoded data removed]"
          },
          "metadata": {}
        }
      ]
    },
    {
      "cell_type": "code",
      "source": [
        "# Example of cross-tabulation (if Age and Height were categorical variables)\n",
        "contingency_table = pd.crosstab(df['Age'], df['Height'])\n",
        "print(\"\\nContingency Table:\")\n",
        "print(contingency_table)\n"
      ],
      "metadata": {
        "colab": {
          "base_uri": "https://localhost:8080/"
        },
        "id": "SBwFaA5ffYW_",
        "outputId": "99d3e0b7-5311-49ca-efc4-79cd4868ea30"
      },
      "execution_count": 92,
      "outputs": [
        {
          "output_type": "stream",
          "name": "stdout",
          "text": [
            "\n",
            "Contingency Table:\n",
            "Height  120  121  122  123  125  127  131  132  137  141  145  161\n",
            "Age                                                               \n",
            "6         1    1    0    0    0    0    0    0    0    0    0    0\n",
            "7         0    0    1    1    1    0    0    0    0    0    0    0\n",
            "8         0    0    0    0    0    1    0    0    0    0    0    0\n",
            "10        0    0    0    0    0    0    1    1    0    0    0    0\n",
            "12        0    0    0    0    0    0    0    0    1    1    0    0\n",
            "13        0    0    0    0    0    0    0    0    0    0    1    0\n",
            "15        0    0    0    0    0    0    0    0    0    0    0    1\n"
          ]
        }
      ]
    },
    {
      "cell_type": "code",
      "source": [
        "# Pearson, Kendall, and Spearman correlations\n",
        "pearson_corr = df.corr(method='pearson')\n",
        "kendall_corr = df.corr(method='kendall')\n",
        "spearman_corr = df.corr(method='spearman')\n",
        "\n",
        "print(\"\\nPearson Correlation Matrix:\")\n",
        "print(pearson_corr)\n",
        "print(\"\\nKendall Correlation Matrix:\")\n",
        "print(kendall_corr)\n",
        "print(\"\\nSpearman Correlation Matrix:\")\n",
        "print(spearman_corr)\n"
      ],
      "metadata": {
        "id": "ZvF1_WU-fb67",
        "outputId": "ca8d222e-50a0-4234-d8ee-03cd7ad12171",
        "colab": {
          "base_uri": "https://localhost:8080/"
        }
      },
      "execution_count": 93,
      "outputs": [
        {
          "output_type": "stream",
          "name": "stdout",
          "text": [
            "\n",
            "Pearson Correlation Matrix:\n",
            "             Age    Height    Weight\n",
            "Age     1.000000  0.965911  0.993655\n",
            "Height  0.965911  1.000000  0.972260\n",
            "Weight  0.993655  0.972260  1.000000\n",
            "\n",
            "Kendall Correlation Matrix:\n",
            "             Age    Height    Weight\n",
            "Age     1.000000  0.953463  0.953463\n",
            "Height  0.953463  1.000000  1.000000\n",
            "Weight  0.953463  1.000000  1.000000\n",
            "\n",
            "Spearman Correlation Matrix:\n",
            "             Age    Height    Weight\n",
            "Age     1.000000  0.987686  0.987686\n",
            "Height  0.987686  1.000000  1.000000\n",
            "Weight  0.987686  1.000000  1.000000\n"
          ]
        }
      ]
    }
  ]
}