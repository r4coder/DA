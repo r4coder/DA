{
  "nbformat": 4,
  "nbformat_minor": 0,
  "metadata": {
    "colab": {
      "provenance": [],
      "authorship_tag": "ABX9TyOYzYaIP7nzzzoWVu7mmchn",
      "include_colab_link": true
    },
    "kernelspec": {
      "name": "python3",
      "display_name": "Python 3"
    },
    "language_info": {
      "name": "python"
    }
  },
  "cells": [
    {
      "cell_type": "markdown",
      "metadata": {
        "id": "view-in-github",
        "colab_type": "text"
      },
      "source": [
        "<a href=\"https://colab.research.google.com/github/r4coder/DA/blob/main/DA.ipynb\" target=\"_parent\"><img src=\"https://colab.research.google.com/assets/colab-badge.svg\" alt=\"Open In Colab\"/></a>"
      ]
    },
    {
      "cell_type": "markdown",
      "source": [
        "# **Merging database-style dataframes**\n",
        "\n"
      ],
      "metadata": {
        "id": "TNWSW59isn6N"
      }
    },
    {
      "cell_type": "code",
      "source": [
        "#Loading the dataset\n",
        "import pandas as pd\n",
        "import numpy as np\n",
        "data_frame=pd.read_csv(\"https://raw.githubusercontent.com/salemprakash/EDA/main/Data/indo_rct.csv\")\n",
        "print(data_frame)"
      ],
      "metadata": {
        "colab": {
          "base_uri": "https://localhost:8080/"
        },
        "id": "B7Bczv4gtf1A",
        "outputId": "da0cae1e-7ba0-470d-f368-ebfc8130b8df"
      },
      "execution_count": null,
      "outputs": [
        {
          "output_type": "stream",
          "name": "stdout",
          "text": [
            "     rownames    id    site  age  risk    gender outcome    sod    pep  \\\n",
            "0           1  1001    1_UM   26   2.0  1_female   1_yes  1_yes   0_no   \n",
            "1           2  1002    1_UM   24   1.0    2_male    0_no   0_no  1_yes   \n",
            "2           3  1003    1_UM   57   1.0  1_female    0_no  1_yes   0_no   \n",
            "3           4  1004    1_UM   29   2.0  1_female   1_yes  1_yes   0_no   \n",
            "4           5  1005    1_UM   38   3.5  1_female    0_no  1_yes  1_yes   \n",
            "..        ...   ...     ...  ...   ...       ...     ...    ...    ...   \n",
            "597       598  3021    3_UK   39   2.0  1_female    0_no   0_no   0_no   \n",
            "598       599  3022    3_UK   50   2.5  1_female    0_no  1_yes   0_no   \n",
            "599       600  4001  4_Case   29   1.5  1_female    0_no   0_no   0_no   \n",
            "600       601  4002  4_Case   40   1.5  1_female    0_no  1_yes   0_no   \n",
            "601       602  4003  4_Case   73   2.0  1_female    0_no   0_no   0_no   \n",
            "\n",
            "    recpanc  ... sodsom bsphinc bstent  chole pbmal  train        status  \\\n",
            "0     1_yes  ...   0_no    0_no   0_no   0_no  0_no  1_yes  1_outpatient   \n",
            "1      0_no  ...   0_no   1_yes  1_yes  1_yes  0_no   0_no  1_outpatient   \n",
            "2      0_no  ...   0_no    0_no   0_no   0_no  0_no   0_no  1_outpatient   \n",
            "3      0_no  ...   0_no   1_yes   0_no  1_yes  0_no  1_yes  1_outpatient   \n",
            "4      0_no  ...  1_yes   1_yes   0_no   0_no  0_no  1_yes   0_inpatient   \n",
            "..      ...  ...    ...     ...    ...    ...   ...    ...           ...   \n",
            "597   1_yes  ...   0_no    0_no   0_no   0_no  0_no   0_no  1_outpatient   \n",
            "598   1_yes  ...  1_yes   1_yes   0_no   0_no  0_no   0_no  1_outpatient   \n",
            "599    0_no  ...   0_no   1_yes   0_no  1_yes  0_no  1_yes  1_outpatient   \n",
            "600    0_no  ...   0_no   1_yes   0_no   0_no  0_no  1_yes  1_outpatient   \n",
            "601    0_no  ...   0_no   1_yes  1_yes   0_no  0_no  1_yes  1_outpatient   \n",
            "\n",
            "         type              rx bleed  \n",
            "0    1_type 1  1_indomethacin   NaN  \n",
            "1    0_no SOD       0_placebo   NaN  \n",
            "2    2_type 2       0_placebo   NaN  \n",
            "3    1_type 1       0_placebo   NaN  \n",
            "4    1_type 1  1_indomethacin   NaN  \n",
            "..        ...             ...   ...  \n",
            "597  0_no SOD       0_placebo   NaN  \n",
            "598  2_type 2       0_placebo   NaN  \n",
            "599  1_type 1       0_placebo   NaN  \n",
            "600  1_type 1  1_indomethacin   NaN  \n",
            "601  0_no SOD  1_indomethacin   NaN  \n",
            "\n",
            "[602 rows x 34 columns]\n"
          ]
        }
      ]
    },
    {
      "cell_type": "code",
      "source": [
        "#Making data set-1 from data set\n",
        "data_1=data_frame[['id','age']]\n",
        "print(data_1)"
      ],
      "metadata": {
        "id": "Dxs2kFwxtco6",
        "colab": {
          "base_uri": "https://localhost:8080/"
        },
        "outputId": "2553cc2c-39d1-466d-d078-d81cd83c5f85"
      },
      "execution_count": null,
      "outputs": [
        {
          "output_type": "stream",
          "name": "stdout",
          "text": [
            "       id  age\n",
            "0    1001   26\n",
            "1    1002   24\n",
            "2    1003   57\n",
            "3    1004   29\n",
            "4    1005   38\n",
            "..    ...  ...\n",
            "597  3021   39\n",
            "598  3022   50\n",
            "599  4001   29\n",
            "600  4002   40\n",
            "601  4003   73\n",
            "\n",
            "[602 rows x 2 columns]\n"
          ]
        }
      ]
    },
    {
      "cell_type": "code",
      "source": [
        "#Making data set-2 from data set\n",
        "data_2=data_frame[['id','status']]\n",
        "prev= data_2['id'].tail(1).values[0]\n",
        "for j in range(len(data_2)):\n",
        "    prev=prev+1\n",
        "    data_2.at[j, 'id']=prev\n",
        "\n",
        "print(data_2)"
      ],
      "metadata": {
        "colab": {
          "base_uri": "https://localhost:8080/"
        },
        "id": "i4qFO9h4GKS6",
        "outputId": "6e1d73e3-fbf6-4389-c568-cfa11c0109fd"
      },
      "execution_count": null,
      "outputs": [
        {
          "output_type": "stream",
          "name": "stdout",
          "text": [
            "       id        status\n",
            "0    4004  1_outpatient\n",
            "1    4005  1_outpatient\n",
            "2    4006  1_outpatient\n",
            "3    4007  1_outpatient\n",
            "4    4008   0_inpatient\n",
            "..    ...           ...\n",
            "597  4601  1_outpatient\n",
            "598  4602  1_outpatient\n",
            "599  4603  1_outpatient\n",
            "600  4604  1_outpatient\n",
            "601  4605  1_outpatient\n",
            "\n",
            "[602 rows x 2 columns]\n"
          ]
        }
      ]
    },
    {
      "cell_type": "code",
      "source": [
        "#Concentation\n",
        "data_concat=pd.concat([data_1, data_2], ignore_index=True)\n",
        "print(data_concat)"
      ],
      "metadata": {
        "colab": {
          "base_uri": "https://localhost:8080/"
        },
        "id": "IgUPkMR_XY23",
        "outputId": "86f784fe-f82a-4124-e756-4725f649ed05"
      },
      "execution_count": null,
      "outputs": [
        {
          "output_type": "stream",
          "name": "stdout",
          "text": [
            "        id   age        status\n",
            "0     1001  26.0           NaN\n",
            "1     1002  24.0           NaN\n",
            "2     1003  57.0           NaN\n",
            "3     1004  29.0           NaN\n",
            "4     1005  38.0           NaN\n",
            "...    ...   ...           ...\n",
            "1199  4601   NaN  1_outpatient\n",
            "1200  4602   NaN  1_outpatient\n",
            "1201  4603   NaN  1_outpatient\n",
            "1202  4604   NaN  1_outpatient\n",
            "1203  4605   NaN  1_outpatient\n",
            "\n",
            "[1204 rows x 3 columns]\n"
          ]
        }
      ]
    },
    {
      "cell_type": "code",
      "source": [],
      "metadata": {
        "id": "6OZGZ7SDZJTa"
      },
      "execution_count": null,
      "outputs": []
    }
  ]
}